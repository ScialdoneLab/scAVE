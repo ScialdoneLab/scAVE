{
 "cells": [
  {
   "cell_type": "markdown",
   "metadata": {
    "hideCode": true,
    "hidePrompt": true,
    "kernel": "SoS"
   },
   "source": [
    "# Embryonic day 6.25: clustering and diffusion pseudotime analyses"
   ]
  },
  {
   "cell_type": "code",
   "execution_count": 1,
   "metadata": {
    "hideCode": true,
    "hidePrompt": true,
    "kernel": "SoS"
   },
   "outputs": [],
   "source": [
    "%matplotlib inline"
   ]
  },
  {
   "cell_type": "code",
   "execution_count": 2,
   "metadata": {
    "hideCode": true,
    "hidePrompt": true,
    "kernel": "SoS"
   },
   "outputs": [],
   "source": [
    "import scanpy as sc\n",
    "import pandas as pd\n",
    "import numpy as np\n",
    "import anndata as ad\n",
    "import scipy\n",
    "import matplotlib\n",
    "import matplotlib.pyplot as plot\n",
    "from collections import Counter\n",
    "import sklearn\n",
    "from sklearn import metrics\n",
    "from sklearn.metrics import pairwise_distances\n",
    "from numba import jit\n",
    "from scipy import spatial\n",
    "import hvplot.pandas\n",
    "import umap"
   ]
  },
  {
   "cell_type": "code",
   "execution_count": 3,
   "metadata": {
    "kernel": "SoS"
   },
   "outputs": [
    {
     "name": "stdout",
     "output_type": "stream",
     "text": [
      "1.4\n",
      "0.25.3\n",
      "1.17.3\n",
      "0.6.19\n",
      "1.2.0\n",
      "3.3.3\n",
      "0.21.3\n",
      "0.3.9\n"
     ]
    }
   ],
   "source": [
    "print(sc.__version__)\n",
    "print(pd.__version__)\n",
    "print(np.__version__)\n",
    "print(ad.__version__)\n",
    "print(scipy.__version__)\n",
    "print(matplotlib.__version__)\n",
    "print(sklearn.__version__)\n",
    "print(umap.__version__)"
   ]
  },
  {
   "cell_type": "code",
   "execution_count": 4,
   "metadata": {
    "kernel": "SoS"
   },
   "outputs": [],
   "source": [
    "#CHANGE THIS TO YOUR PATH\n",
    "data_path='/Users/jonathan/Desktop/MUNCHEN/Project_AVE_migration/DRAFT_PAPER/GIT_REPO/DATA/'"
   ]
  },
  {
   "cell_type": "markdown",
   "metadata": {
    "hideCode": true,
    "hidePrompt": true,
    "kernel": "R"
   },
   "source": [
    "# Clustering"
   ]
  },
  {
   "cell_type": "markdown",
   "metadata": {
    "hideCode": true,
    "hidePrompt": true,
    "kernel": "SoS"
   },
   "source": [
    "## Highly variable genes (HVGs) selection"
   ]
  },
  {
   "cell_type": "code",
   "execution_count": 5,
   "metadata": {
    "hideCode": true,
    "hidePrompt": true,
    "kernel": "SoS"
   },
   "outputs": [],
   "source": [
    "norm_data=ad.read_h5ad(data_path+'norm_data_625.h5ad')\n",
    "\n",
    "sc.pp.log1p(norm_data)    #log-normalize data\n",
    "norm_data.raw = norm_data\n",
    "\n",
    "sc.pp.highly_variable_genes(norm_data,max_mean=10,n_top_genes=3000)  #calculate highly variable genes\n",
    "high_var = norm_data[:,norm_data.var['highly_variable']==True]  #select only highly variable genes"
   ]
  },
  {
   "cell_type": "markdown",
   "metadata": {
    "kernel": "SoS"
   },
   "source": [
    "## Cluster Spearman correlation matrix using dynamic tree cut"
   ]
  },
  {
   "cell_type": "code",
   "execution_count": 6,
   "metadata": {
    "kernel": "SoS"
   },
   "outputs": [],
   "source": [
    "high_var_df=high_var.to_df()"
   ]
  },
  {
   "cell_type": "code",
   "execution_count": 7,
   "metadata": {
    "kernel": "R",
    "scrolled": true
   },
   "outputs": [
    {
     "name": "stderr",
     "output_type": "stream",
     "text": [
      "\n",
      "Attaching package: ‘fastcluster’\n",
      "\n",
      "\n",
      "The following object is masked from ‘package:stats’:\n",
      "\n",
      "    hclust\n",
      "\n",
      "\n",
      "\n",
      "\n"
     ]
    },
    {
     "name": "stdout",
     "output_type": "stream",
     "text": [
      " ..cutHeight not given, setting it to 0.533  ===>  99% of the (truncated) height range in dendro.\n",
      " ..done.\n",
      " ..cutHeight not given, setting it to 0.537  ===>  99% of the (truncated) height range in dendro.\n",
      " ..done.\n",
      " ..cutHeight not given, setting it to 0.535  ===>  99% of the (truncated) height range in dendro.\n",
      " ..done.\n",
      " ..cutHeight not given, setting it to 0.525  ===>  99% of the (truncated) height range in dendro.\n",
      " ..done.\n",
      " ..cutHeight not given, setting it to 0.537  ===>  99% of the (truncated) height range in dendro.\n",
      " ..done.\n",
      " ..cutHeight not given, setting it to 0.533  ===>  99% of the (truncated) height range in dendro.\n",
      " ..done.\n",
      " ..cutHeight not given, setting it to 0.522  ===>  99% of the (truncated) height range in dendro.\n",
      " ..done.\n",
      " ..cutHeight not given, setting it to 0.527  ===>  99% of the (truncated) height range in dendro.\n",
      " ..done.\n",
      " ..cutHeight not given, setting it to 0.527  ===>  99% of the (truncated) height range in dendro.\n",
      " ..done.\n",
      " ..cutHeight not given, setting it to 0.531  ===>  99% of the (truncated) height range in dendro.\n",
      " ..done.\n",
      " ..cutHeight not given, setting it to 0.527  ===>  99% of the (truncated) height range in dendro.\n",
      " ..done.\n",
      " ..cutHeight not given, setting it to 0.538  ===>  99% of the (truncated) height range in dendro.\n",
      " ..done.\n",
      " ..cutHeight not given, setting it to 0.533  ===>  99% of the (truncated) height range in dendro.\n",
      " ..done.\n",
      " ..cutHeight not given, setting it to 0.531  ===>  99% of the (truncated) height range in dendro.\n",
      " ..done.\n",
      " ..cutHeight not given, setting it to 0.528  ===>  99% of the (truncated) height range in dendro.\n",
      " ..done.\n",
      " ..cutHeight not given, setting it to 0.532  ===>  99% of the (truncated) height range in dendro.\n",
      " ..done.\n",
      " ..cutHeight not given, setting it to 0.541  ===>  99% of the (truncated) height range in dendro.\n",
      " ..done.\n",
      " ..cutHeight not given, setting it to 0.533  ===>  99% of the (truncated) height range in dendro.\n",
      " ..done.\n",
      " ..cutHeight not given, setting it to 0.534  ===>  99% of the (truncated) height range in dendro.\n",
      " ..done.\n",
      " ..cutHeight not given, setting it to 0.529  ===>  99% of the (truncated) height range in dendro.\n",
      " ..done.\n",
      " ..cutHeight not given, setting it to 0.522  ===>  99% of the (truncated) height range in dendro.\n",
      " ..done.\n",
      " ..cutHeight not given, setting it to 0.538  ===>  99% of the (truncated) height range in dendro.\n",
      " ..done.\n",
      " ..cutHeight not given, setting it to 0.537  ===>  99% of the (truncated) height range in dendro.\n",
      " ..done.\n",
      " ..cutHeight not given, setting it to 0.528  ===>  99% of the (truncated) height range in dendro.\n",
      " ..done.\n",
      " ..cutHeight not given, setting it to 0.531  ===>  99% of the (truncated) height range in dendro.\n",
      " ..done.\n",
      " ..cutHeight not given, setting it to 0.533  ===>  99% of the (truncated) height range in dendro.\n",
      " ..done.\n",
      " ..cutHeight not given, setting it to 0.537  ===>  99% of the (truncated) height range in dendro.\n",
      " ..done.\n",
      " ..cutHeight not given, setting it to 0.534  ===>  99% of the (truncated) height range in dendro.\n",
      " ..done.\n",
      " ..cutHeight not given, setting it to 0.535  ===>  99% of the (truncated) height range in dendro.\n",
      " ..done.\n",
      " ..cutHeight not given, setting it to 0.53  ===>  99% of the (truncated) height range in dendro.\n",
      " ..done.\n",
      " ..cutHeight not given, setting it to 0.541  ===>  99% of the (truncated) height range in dendro.\n",
      " ..done.\n",
      " ..cutHeight not given, setting it to 0.536  ===>  99% of the (truncated) height range in dendro.\n",
      " ..done.\n",
      " ..cutHeight not given, setting it to 0.541  ===>  99% of the (truncated) height range in dendro.\n",
      " ..done.\n",
      " ..cutHeight not given, setting it to 0.535  ===>  99% of the (truncated) height range in dendro.\n",
      " ..done.\n",
      " ..cutHeight not given, setting it to 0.534  ===>  99% of the (truncated) height range in dendro.\n",
      " ..done.\n",
      " ..cutHeight not given, setting it to 0.537  ===>  99% of the (truncated) height range in dendro.\n",
      " ..done.\n",
      " ..cutHeight not given, setting it to 0.527  ===>  99% of the (truncated) height range in dendro.\n",
      " ..done.\n",
      " ..cutHeight not given, setting it to 0.543  ===>  99% of the (truncated) height range in dendro.\n",
      " ..done.\n",
      " ..cutHeight not given, setting it to 0.532  ===>  99% of the (truncated) height range in dendro.\n",
      " ..done.\n",
      " ..cutHeight not given, setting it to 0.527  ===>  99% of the (truncated) height range in dendro.\n",
      " ..done.\n",
      " ..cutHeight not given, setting it to 0.529  ===>  99% of the (truncated) height range in dendro.\n",
      " ..done.\n",
      " ..cutHeight not given, setting it to 0.536  ===>  99% of the (truncated) height range in dendro.\n",
      " ..done.\n",
      " ..cutHeight not given, setting it to 0.538  ===>  99% of the (truncated) height range in dendro.\n",
      " ..done.\n",
      " ..cutHeight not given, setting it to 0.529  ===>  99% of the (truncated) height range in dendro.\n",
      " ..done.\n",
      " ..cutHeight not given, setting it to 0.52  ===>  99% of the (truncated) height range in dendro.\n",
      " ..done.\n",
      " ..cutHeight not given, setting it to 0.53  ===>  99% of the (truncated) height range in dendro.\n",
      " ..done.\n",
      " ..cutHeight not given, setting it to 0.538  ===>  99% of the (truncated) height range in dendro.\n",
      " ..done.\n",
      " ..cutHeight not given, setting it to 0.533  ===>  99% of the (truncated) height range in dendro.\n",
      " ..done.\n",
      " ..cutHeight not given, setting it to 0.534  ===>  99% of the (truncated) height range in dendro.\n",
      " ..done.\n",
      " ..cutHeight not given, setting it to 0.541  ===>  99% of the (truncated) height range in dendro.\n",
      " ..done.\n",
      " ..cutHeight not given, setting it to 0.534  ===>  99% of the (truncated) height range in dendro.\n",
      " ..done.\n",
      " ..cutHeight not given, setting it to 0.533  ===>  99% of the (truncated) height range in dendro.\n",
      " ..done.\n",
      " ..cutHeight not given, setting it to 0.537  ===>  99% of the (truncated) height range in dendro.\n",
      " ..done.\n",
      " ..cutHeight not given, setting it to 0.535  ===>  99% of the (truncated) height range in dendro.\n",
      " ..done.\n",
      " ..cutHeight not given, setting it to 0.525  ===>  99% of the (truncated) height range in dendro.\n",
      " ..done.\n",
      " ..cutHeight not given, setting it to 0.537  ===>  99% of the (truncated) height range in dendro.\n",
      " ..done.\n",
      " ..cutHeight not given, setting it to 0.533  ===>  99% of the (truncated) height range in dendro.\n",
      " ..done.\n",
      " ..cutHeight not given, setting it to 0.522  ===>  99% of the (truncated) height range in dendro.\n",
      " ..done.\n",
      " ..cutHeight not given, setting it to 0.527  ===>  99% of the (truncated) height range in dendro.\n",
      " ..done.\n",
      " ..cutHeight not given, setting it to 0.527  ===>  99% of the (truncated) height range in dendro.\n",
      " ..done.\n",
      " ..cutHeight not given, setting it to 0.531  ===>  99% of the (truncated) height range in dendro.\n",
      " ..done.\n",
      " ..cutHeight not given, setting it to 0.527  ===>  99% of the (truncated) height range in dendro.\n",
      " ..done.\n",
      " ..cutHeight not given, setting it to 0.538  ===>  99% of the (truncated) height range in dendro.\n",
      " ..done.\n",
      " ..cutHeight not given, setting it to 0.533  ===>  99% of the (truncated) height range in dendro.\n",
      " ..done.\n",
      " ..cutHeight not given, setting it to 0.531  ===>  99% of the (truncated) height range in dendro.\n",
      " ..done.\n",
      " ..cutHeight not given, setting it to 0.528  ===>  99% of the (truncated) height range in dendro.\n",
      " ..done.\n",
      " ..cutHeight not given, setting it to 0.532  ===>  99% of the (truncated) height range in dendro.\n",
      " ..done.\n",
      " ..cutHeight not given, setting it to 0.541  ===>  99% of the (truncated) height range in dendro.\n",
      " ..done.\n",
      " ..cutHeight not given, setting it to 0.533  ===>  99% of the (truncated) height range in dendro.\n",
      " ..done.\n",
      " ..cutHeight not given, setting it to 0.534  ===>  99% of the (truncated) height range in dendro.\n",
      " ..done.\n",
      " ..cutHeight not given, setting it to 0.529  ===>  99% of the (truncated) height range in dendro.\n",
      " ..done.\n",
      " ..cutHeight not given, setting it to 0.522  ===>  99% of the (truncated) height range in dendro.\n",
      " ..done.\n",
      " ..cutHeight not given, setting it to 0.538  ===>  99% of the (truncated) height range in dendro.\n",
      " ..done.\n",
      " ..cutHeight not given, setting it to 0.537  ===>  99% of the (truncated) height range in dendro.\n",
      " ..done.\n",
      " ..cutHeight not given, setting it to 0.528  ===>  99% of the (truncated) height range in dendro.\n",
      " ..done.\n",
      " ..cutHeight not given, setting it to 0.531  ===>  99% of the (truncated) height range in dendro.\n",
      " ..done.\n",
      " ..cutHeight not given, setting it to 0.533  ===>  99% of the (truncated) height range in dendro.\n"
     ]
    },
    {
     "name": "stdout",
     "output_type": "stream",
     "text": [
      " ..done.\n",
      " ..cutHeight not given, setting it to 0.537  ===>  99% of the (truncated) height range in dendro.\n",
      " ..done.\n",
      " ..cutHeight not given, setting it to 0.534  ===>  99% of the (truncated) height range in dendro.\n",
      " ..done.\n",
      " ..cutHeight not given, setting it to 0.535  ===>  99% of the (truncated) height range in dendro.\n",
      " ..done.\n",
      " ..cutHeight not given, setting it to 0.53  ===>  99% of the (truncated) height range in dendro.\n",
      " ..done.\n",
      " ..cutHeight not given, setting it to 0.541  ===>  99% of the (truncated) height range in dendro.\n",
      " ..done.\n",
      " ..cutHeight not given, setting it to 0.536  ===>  99% of the (truncated) height range in dendro.\n",
      " ..done.\n",
      " ..cutHeight not given, setting it to 0.541  ===>  99% of the (truncated) height range in dendro.\n",
      " ..done.\n",
      " ..cutHeight not given, setting it to 0.535  ===>  99% of the (truncated) height range in dendro.\n",
      " ..done.\n",
      " ..cutHeight not given, setting it to 0.534  ===>  99% of the (truncated) height range in dendro.\n",
      " ..done.\n",
      " ..cutHeight not given, setting it to 0.537  ===>  99% of the (truncated) height range in dendro.\n",
      " ..done.\n",
      " ..cutHeight not given, setting it to 0.527  ===>  99% of the (truncated) height range in dendro.\n",
      " ..done.\n",
      " ..cutHeight not given, setting it to 0.543  ===>  99% of the (truncated) height range in dendro.\n",
      " ..done.\n",
      " ..cutHeight not given, setting it to 0.532  ===>  99% of the (truncated) height range in dendro.\n",
      " ..done.\n",
      " ..cutHeight not given, setting it to 0.527  ===>  99% of the (truncated) height range in dendro.\n",
      " ..done.\n",
      " ..cutHeight not given, setting it to 0.529  ===>  99% of the (truncated) height range in dendro.\n",
      " ..done.\n",
      " ..cutHeight not given, setting it to 0.536  ===>  99% of the (truncated) height range in dendro.\n",
      " ..done.\n",
      " ..cutHeight not given, setting it to 0.538  ===>  99% of the (truncated) height range in dendro.\n",
      " ..done.\n",
      " ..cutHeight not given, setting it to 0.529  ===>  99% of the (truncated) height range in dendro.\n",
      " ..done.\n",
      " ..cutHeight not given, setting it to 0.52  ===>  99% of the (truncated) height range in dendro.\n",
      " ..done.\n",
      " ..cutHeight not given, setting it to 0.53  ===>  99% of the (truncated) height range in dendro.\n",
      " ..done.\n",
      " ..cutHeight not given, setting it to 0.538  ===>  99% of the (truncated) height range in dendro.\n",
      " ..done.\n",
      " ..cutHeight not given, setting it to 0.533  ===>  99% of the (truncated) height range in dendro.\n",
      " ..done.\n",
      " ..cutHeight not given, setting it to 0.534  ===>  99% of the (truncated) height range in dendro.\n",
      " ..done.\n",
      " ..cutHeight not given, setting it to 0.541  ===>  99% of the (truncated) height range in dendro.\n",
      " ..done.\n",
      " ..cutHeight not given, setting it to 0.534  ===>  99% of the (truncated) height range in dendro.\n",
      " ..done.\n",
      " ..cutHeight not given, setting it to 0.533  ===>  99% of the (truncated) height range in dendro.\n",
      " ..done.\n",
      " ..cutHeight not given, setting it to 0.537  ===>  99% of the (truncated) height range in dendro.\n",
      " ..done.\n",
      " ..cutHeight not given, setting it to 0.535  ===>  99% of the (truncated) height range in dendro.\n",
      " ..done.\n",
      " ..cutHeight not given, setting it to 0.525  ===>  99% of the (truncated) height range in dendro.\n",
      " ..done.\n",
      " ..cutHeight not given, setting it to 0.537  ===>  99% of the (truncated) height range in dendro.\n",
      " ..done.\n",
      " ..cutHeight not given, setting it to 0.533  ===>  99% of the (truncated) height range in dendro.\n",
      " ..done.\n",
      " ..cutHeight not given, setting it to 0.522  ===>  99% of the (truncated) height range in dendro.\n",
      " ..done.\n",
      " ..cutHeight not given, setting it to 0.527  ===>  99% of the (truncated) height range in dendro.\n",
      " ..done.\n",
      " ..cutHeight not given, setting it to 0.527  ===>  99% of the (truncated) height range in dendro.\n",
      " ..done.\n",
      " ..cutHeight not given, setting it to 0.531  ===>  99% of the (truncated) height range in dendro.\n",
      " ..done.\n",
      " ..cutHeight not given, setting it to 0.527  ===>  99% of the (truncated) height range in dendro.\n",
      " ..done.\n",
      " ..cutHeight not given, setting it to 0.538  ===>  99% of the (truncated) height range in dendro.\n",
      " ..done.\n",
      " ..cutHeight not given, setting it to 0.533  ===>  99% of the (truncated) height range in dendro.\n",
      " ..done.\n",
      " ..cutHeight not given, setting it to 0.531  ===>  99% of the (truncated) height range in dendro.\n",
      " ..done.\n",
      " ..cutHeight not given, setting it to 0.528  ===>  99% of the (truncated) height range in dendro.\n",
      " ..done.\n",
      " ..cutHeight not given, setting it to 0.532  ===>  99% of the (truncated) height range in dendro.\n",
      " ..done.\n",
      " ..cutHeight not given, setting it to 0.541  ===>  99% of the (truncated) height range in dendro.\n",
      " ..done.\n",
      " ..cutHeight not given, setting it to 0.533  ===>  99% of the (truncated) height range in dendro.\n",
      " ..done.\n",
      " ..cutHeight not given, setting it to 0.534  ===>  99% of the (truncated) height range in dendro.\n",
      " ..done.\n",
      " ..cutHeight not given, setting it to 0.529  ===>  99% of the (truncated) height range in dendro.\n",
      " ..done.\n",
      " ..cutHeight not given, setting it to 0.522  ===>  99% of the (truncated) height range in dendro.\n",
      " ..done.\n",
      " ..cutHeight not given, setting it to 0.538  ===>  99% of the (truncated) height range in dendro.\n",
      " ..done.\n",
      " ..cutHeight not given, setting it to 0.537  ===>  99% of the (truncated) height range in dendro.\n",
      " ..done.\n",
      " ..cutHeight not given, setting it to 0.528  ===>  99% of the (truncated) height range in dendro.\n",
      " ..done.\n",
      " ..cutHeight not given, setting it to 0.531  ===>  99% of the (truncated) height range in dendro.\n",
      " ..done.\n",
      " ..cutHeight not given, setting it to 0.533  ===>  99% of the (truncated) height range in dendro.\n",
      " ..done.\n",
      " ..cutHeight not given, setting it to 0.537  ===>  99% of the (truncated) height range in dendro.\n",
      " ..done.\n",
      " ..cutHeight not given, setting it to 0.534  ===>  99% of the (truncated) height range in dendro.\n",
      " ..done.\n",
      " ..cutHeight not given, setting it to 0.535  ===>  99% of the (truncated) height range in dendro.\n",
      " ..done.\n",
      " ..cutHeight not given, setting it to 0.53  ===>  99% of the (truncated) height range in dendro.\n",
      " ..done.\n",
      " ..cutHeight not given, setting it to 0.541  ===>  99% of the (truncated) height range in dendro.\n",
      " ..done.\n",
      " ..cutHeight not given, setting it to 0.536  ===>  99% of the (truncated) height range in dendro.\n",
      " ..done.\n",
      " ..cutHeight not given, setting it to 0.541  ===>  99% of the (truncated) height range in dendro.\n",
      " ..done.\n",
      " ..cutHeight not given, setting it to 0.535  ===>  99% of the (truncated) height range in dendro.\n",
      " ..done.\n",
      " ..cutHeight not given, setting it to 0.534  ===>  99% of the (truncated) height range in dendro.\n",
      " ..done.\n",
      " ..cutHeight not given, setting it to 0.537  ===>  99% of the (truncated) height range in dendro.\n",
      " ..done.\n",
      " ..cutHeight not given, setting it to 0.527  ===>  99% of the (truncated) height range in dendro.\n",
      " ..done.\n",
      " ..cutHeight not given, setting it to 0.543  ===>  99% of the (truncated) height range in dendro.\n",
      " ..done.\n",
      " ..cutHeight not given, setting it to 0.532  ===>  99% of the (truncated) height range in dendro.\n",
      " ..done.\n",
      " ..cutHeight not given, setting it to 0.527  ===>  99% of the (truncated) height range in dendro.\n",
      " ..done.\n",
      " ..cutHeight not given, setting it to 0.529  ===>  99% of the (truncated) height range in dendro.\n",
      " ..done.\n",
      " ..cutHeight not given, setting it to 0.536  ===>  99% of the (truncated) height range in dendro.\n",
      " ..done.\n",
      " ..cutHeight not given, setting it to 0.538  ===>  99% of the (truncated) height range in dendro.\n",
      " ..done.\n",
      " ..cutHeight not given, setting it to 0.529  ===>  99% of the (truncated) height range in dendro.\n",
      " ..done.\n",
      " ..cutHeight not given, setting it to 0.52  ===>  99% of the (truncated) height range in dendro.\n",
      " ..done.\n",
      " ..cutHeight not given, setting it to 0.53  ===>  99% of the (truncated) height range in dendro.\n",
      " ..done.\n",
      " ..cutHeight not given, setting it to 0.538  ===>  99% of the (truncated) height range in dendro.\n",
      " ..done.\n",
      " ..cutHeight not given, setting it to 0.533  ===>  99% of the (truncated) height range in dendro.\n",
      " ..done.\n",
      " ..cutHeight not given, setting it to 0.534  ===>  99% of the (truncated) height range in dendro.\n",
      " ..done.\n",
      " ..cutHeight not given, setting it to 0.541  ===>  99% of the (truncated) height range in dendro.\n",
      " ..done.\n",
      " ..cutHeight not given, setting it to 0.534  ===>  99% of the (truncated) height range in dendro.\n",
      " ..done.\n",
      " ..cutHeight not given, setting it to 0.533  ===>  99% of the (truncated) height range in dendro.\n"
     ]
    },
    {
     "name": "stdout",
     "output_type": "stream",
     "text": [
      " ..done.\n",
      " ..cutHeight not given, setting it to 0.537  ===>  99% of the (truncated) height range in dendro.\n",
      " ..done.\n",
      " ..cutHeight not given, setting it to 0.535  ===>  99% of the (truncated) height range in dendro.\n",
      " ..done.\n",
      " ..cutHeight not given, setting it to 0.525  ===>  99% of the (truncated) height range in dendro.\n",
      " ..done.\n",
      " ..cutHeight not given, setting it to 0.537  ===>  99% of the (truncated) height range in dendro.\n",
      " ..done.\n",
      " ..cutHeight not given, setting it to 0.533  ===>  99% of the (truncated) height range in dendro.\n",
      " ..done.\n",
      " ..cutHeight not given, setting it to 0.522  ===>  99% of the (truncated) height range in dendro.\n",
      " ..done.\n",
      " ..cutHeight not given, setting it to 0.527  ===>  99% of the (truncated) height range in dendro.\n",
      " ..done.\n",
      " ..cutHeight not given, setting it to 0.527  ===>  99% of the (truncated) height range in dendro.\n",
      " ..done.\n",
      " ..cutHeight not given, setting it to 0.531  ===>  99% of the (truncated) height range in dendro.\n",
      " ..done.\n",
      " ..cutHeight not given, setting it to 0.527  ===>  99% of the (truncated) height range in dendro.\n",
      " ..done.\n",
      " ..cutHeight not given, setting it to 0.538  ===>  99% of the (truncated) height range in dendro.\n",
      " ..done.\n",
      " ..cutHeight not given, setting it to 0.533  ===>  99% of the (truncated) height range in dendro.\n",
      " ..done.\n",
      " ..cutHeight not given, setting it to 0.531  ===>  99% of the (truncated) height range in dendro.\n",
      " ..done.\n",
      " ..cutHeight not given, setting it to 0.528  ===>  99% of the (truncated) height range in dendro.\n",
      " ..done.\n",
      " ..cutHeight not given, setting it to 0.532  ===>  99% of the (truncated) height range in dendro.\n",
      " ..done.\n",
      " ..cutHeight not given, setting it to 0.541  ===>  99% of the (truncated) height range in dendro.\n",
      " ..done.\n",
      " ..cutHeight not given, setting it to 0.533  ===>  99% of the (truncated) height range in dendro.\n",
      " ..done.\n",
      " ..cutHeight not given, setting it to 0.534  ===>  99% of the (truncated) height range in dendro.\n",
      " ..done.\n",
      " ..cutHeight not given, setting it to 0.529  ===>  99% of the (truncated) height range in dendro.\n",
      " ..done.\n",
      " ..cutHeight not given, setting it to 0.522  ===>  99% of the (truncated) height range in dendro.\n",
      " ..done.\n",
      " ..cutHeight not given, setting it to 0.538  ===>  99% of the (truncated) height range in dendro.\n",
      " ..done.\n",
      " ..cutHeight not given, setting it to 0.537  ===>  99% of the (truncated) height range in dendro.\n",
      " ..done.\n",
      " ..cutHeight not given, setting it to 0.528  ===>  99% of the (truncated) height range in dendro.\n",
      " ..done.\n",
      " ..cutHeight not given, setting it to 0.531  ===>  99% of the (truncated) height range in dendro.\n",
      " ..done.\n",
      " ..cutHeight not given, setting it to 0.533  ===>  99% of the (truncated) height range in dendro.\n",
      " ..done.\n",
      " ..cutHeight not given, setting it to 0.537  ===>  99% of the (truncated) height range in dendro.\n",
      " ..done.\n",
      " ..cutHeight not given, setting it to 0.534  ===>  99% of the (truncated) height range in dendro.\n",
      " ..done.\n",
      " ..cutHeight not given, setting it to 0.535  ===>  99% of the (truncated) height range in dendro.\n",
      " ..done.\n",
      " ..cutHeight not given, setting it to 0.53  ===>  99% of the (truncated) height range in dendro.\n",
      " ..done.\n",
      " ..cutHeight not given, setting it to 0.541  ===>  99% of the (truncated) height range in dendro.\n",
      " ..done.\n",
      " ..cutHeight not given, setting it to 0.536  ===>  99% of the (truncated) height range in dendro.\n",
      " ..done.\n",
      " ..cutHeight not given, setting it to 0.541  ===>  99% of the (truncated) height range in dendro.\n",
      " ..done.\n",
      " ..cutHeight not given, setting it to 0.535  ===>  99% of the (truncated) height range in dendro.\n",
      " ..done.\n",
      " ..cutHeight not given, setting it to 0.534  ===>  99% of the (truncated) height range in dendro.\n",
      " ..done.\n",
      " ..cutHeight not given, setting it to 0.537  ===>  99% of the (truncated) height range in dendro.\n",
      " ..done.\n",
      " ..cutHeight not given, setting it to 0.527  ===>  99% of the (truncated) height range in dendro.\n",
      " ..done.\n",
      " ..cutHeight not given, setting it to 0.543  ===>  99% of the (truncated) height range in dendro.\n",
      " ..done.\n",
      " ..cutHeight not given, setting it to 0.532  ===>  99% of the (truncated) height range in dendro.\n",
      " ..done.\n",
      " ..cutHeight not given, setting it to 0.527  ===>  99% of the (truncated) height range in dendro.\n",
      " ..done.\n",
      " ..cutHeight not given, setting it to 0.529  ===>  99% of the (truncated) height range in dendro.\n",
      " ..done.\n",
      " ..cutHeight not given, setting it to 0.536  ===>  99% of the (truncated) height range in dendro.\n",
      " ..done.\n",
      " ..cutHeight not given, setting it to 0.538  ===>  99% of the (truncated) height range in dendro.\n",
      " ..done.\n",
      " ..cutHeight not given, setting it to 0.529  ===>  99% of the (truncated) height range in dendro.\n",
      " ..done.\n",
      " ..cutHeight not given, setting it to 0.52  ===>  99% of the (truncated) height range in dendro.\n",
      " ..done.\n",
      " ..cutHeight not given, setting it to 0.53  ===>  99% of the (truncated) height range in dendro.\n",
      " ..done.\n",
      " ..cutHeight not given, setting it to 0.538  ===>  99% of the (truncated) height range in dendro.\n",
      " ..done.\n",
      " ..cutHeight not given, setting it to 0.533  ===>  99% of the (truncated) height range in dendro.\n",
      " ..done.\n",
      " ..cutHeight not given, setting it to 0.534  ===>  99% of the (truncated) height range in dendro.\n",
      " ..done.\n",
      " ..cutHeight not given, setting it to 0.541  ===>  99% of the (truncated) height range in dendro.\n",
      " ..done.\n",
      " ..cutHeight not given, setting it to 0.534  ===>  99% of the (truncated) height range in dendro.\n",
      " ..done.\n",
      " ..cutHeight not given, setting it to 0.533  ===>  99% of the (truncated) height range in dendro.\n",
      " ..done.\n",
      " ..cutHeight not given, setting it to 0.537  ===>  99% of the (truncated) height range in dendro.\n",
      " ..done.\n",
      " ..cutHeight not given, setting it to 0.535  ===>  99% of the (truncated) height range in dendro.\n",
      " ..done.\n",
      " ..cutHeight not given, setting it to 0.525  ===>  99% of the (truncated) height range in dendro.\n",
      " ..done.\n",
      " ..cutHeight not given, setting it to 0.537  ===>  99% of the (truncated) height range in dendro.\n",
      " ..done.\n",
      " ..cutHeight not given, setting it to 0.533  ===>  99% of the (truncated) height range in dendro.\n",
      " ..done.\n",
      " ..cutHeight not given, setting it to 0.522  ===>  99% of the (truncated) height range in dendro.\n",
      " ..done.\n",
      " ..cutHeight not given, setting it to 0.527  ===>  99% of the (truncated) height range in dendro.\n",
      " ..done.\n",
      " ..cutHeight not given, setting it to 0.527  ===>  99% of the (truncated) height range in dendro.\n",
      " ..done.\n",
      " ..cutHeight not given, setting it to 0.531  ===>  99% of the (truncated) height range in dendro.\n",
      " ..done.\n",
      " ..cutHeight not given, setting it to 0.527  ===>  99% of the (truncated) height range in dendro.\n",
      " ..done.\n",
      " ..cutHeight not given, setting it to 0.538  ===>  99% of the (truncated) height range in dendro.\n",
      " ..done.\n",
      " ..cutHeight not given, setting it to 0.533  ===>  99% of the (truncated) height range in dendro.\n",
      " ..done.\n",
      " ..cutHeight not given, setting it to 0.531  ===>  99% of the (truncated) height range in dendro.\n",
      " ..done.\n",
      " ..cutHeight not given, setting it to 0.528  ===>  99% of the (truncated) height range in dendro.\n",
      " ..done.\n",
      " ..cutHeight not given, setting it to 0.532  ===>  99% of the (truncated) height range in dendro.\n",
      " ..done.\n",
      " ..cutHeight not given, setting it to 0.541  ===>  99% of the (truncated) height range in dendro.\n",
      " ..done.\n",
      " ..cutHeight not given, setting it to 0.533  ===>  99% of the (truncated) height range in dendro.\n",
      " ..done.\n",
      " ..cutHeight not given, setting it to 0.534  ===>  99% of the (truncated) height range in dendro.\n",
      " ..done.\n",
      " ..cutHeight not given, setting it to 0.529  ===>  99% of the (truncated) height range in dendro.\n",
      " ..done.\n",
      " ..cutHeight not given, setting it to 0.522  ===>  99% of the (truncated) height range in dendro.\n",
      " ..done.\n",
      " ..cutHeight not given, setting it to 0.538  ===>  99% of the (truncated) height range in dendro.\n",
      " ..done.\n",
      " ..cutHeight not given, setting it to 0.537  ===>  99% of the (truncated) height range in dendro.\n",
      " ..done.\n",
      " ..cutHeight not given, setting it to 0.528  ===>  99% of the (truncated) height range in dendro.\n",
      " ..done.\n",
      " ..cutHeight not given, setting it to 0.531  ===>  99% of the (truncated) height range in dendro.\n",
      " ..done.\n",
      " ..cutHeight not given, setting it to 0.533  ===>  99% of the (truncated) height range in dendro.\n",
      " ..done.\n",
      " ..cutHeight not given, setting it to 0.537  ===>  99% of the (truncated) height range in dendro.\n"
     ]
    },
    {
     "name": "stdout",
     "output_type": "stream",
     "text": [
      " ..done.\n",
      " ..cutHeight not given, setting it to 0.534  ===>  99% of the (truncated) height range in dendro.\n",
      " ..done.\n",
      " ..cutHeight not given, setting it to 0.535  ===>  99% of the (truncated) height range in dendro.\n",
      " ..done.\n",
      " ..cutHeight not given, setting it to 0.53  ===>  99% of the (truncated) height range in dendro.\n",
      " ..done.\n",
      " ..cutHeight not given, setting it to 0.541  ===>  99% of the (truncated) height range in dendro.\n",
      " ..done.\n",
      " ..cutHeight not given, setting it to 0.536  ===>  99% of the (truncated) height range in dendro.\n",
      " ..done.\n",
      " ..cutHeight not given, setting it to 0.541  ===>  99% of the (truncated) height range in dendro.\n",
      " ..done.\n",
      " ..cutHeight not given, setting it to 0.535  ===>  99% of the (truncated) height range in dendro.\n",
      " ..done.\n",
      " ..cutHeight not given, setting it to 0.534  ===>  99% of the (truncated) height range in dendro.\n",
      " ..done.\n",
      " ..cutHeight not given, setting it to 0.537  ===>  99% of the (truncated) height range in dendro.\n",
      " ..done.\n",
      " ..cutHeight not given, setting it to 0.527  ===>  99% of the (truncated) height range in dendro.\n",
      " ..done.\n",
      " ..cutHeight not given, setting it to 0.543  ===>  99% of the (truncated) height range in dendro.\n",
      " ..done.\n",
      " ..cutHeight not given, setting it to 0.532  ===>  99% of the (truncated) height range in dendro.\n",
      " ..done.\n",
      " ..cutHeight not given, setting it to 0.527  ===>  99% of the (truncated) height range in dendro.\n",
      " ..done.\n",
      " ..cutHeight not given, setting it to 0.529  ===>  99% of the (truncated) height range in dendro.\n",
      " ..done.\n",
      " ..cutHeight not given, setting it to 0.536  ===>  99% of the (truncated) height range in dendro.\n",
      " ..done.\n",
      " ..cutHeight not given, setting it to 0.538  ===>  99% of the (truncated) height range in dendro.\n",
      " ..done.\n",
      " ..cutHeight not given, setting it to 0.529  ===>  99% of the (truncated) height range in dendro.\n",
      " ..done.\n",
      " ..cutHeight not given, setting it to 0.52  ===>  99% of the (truncated) height range in dendro.\n",
      " ..done.\n",
      " ..cutHeight not given, setting it to 0.53  ===>  99% of the (truncated) height range in dendro.\n",
      " ..done.\n",
      " ..cutHeight not given, setting it to 0.538  ===>  99% of the (truncated) height range in dendro.\n",
      " ..done.\n",
      " ..cutHeight not given, setting it to 0.533  ===>  99% of the (truncated) height range in dendro.\n",
      " ..done.\n",
      " ..cutHeight not given, setting it to 0.534  ===>  99% of the (truncated) height range in dendro.\n",
      " ..done.\n",
      " ..cutHeight not given, setting it to 0.541  ===>  99% of the (truncated) height range in dendro.\n",
      " ..done.\n",
      " ..cutHeight not given, setting it to 0.534  ===>  99% of the (truncated) height range in dendro.\n",
      " ..done.\n"
     ]
    }
   ],
   "source": [
    "%get high_var_df\n",
    "\n",
    "library(dynamicTreeCut, quietly = TRUE, warn.conflicts = FALSE)\n",
    "library(WGCNA, quietly = TRUE, warn.conflicts = FALSE)\n",
    "library(Rtsne, quietly = TRUE, warn.conflicts = FALSE)\n",
    "library(mcclust, quietly = TRUE, warn.conflicts = FALSE)\n",
    "\n",
    "#Robustness analysis for clustering\n",
    "\n",
    "data<-as.matrix(t(high_var_df))\n",
    "\n",
    "# nr of random samples\n",
    "nrRepeats = 50\n",
    "# percent of HVGs to keep\n",
    "percent = 50\n",
    "# nr of HVGs kept\n",
    "sampleSize <- round(length(rownames(data))*percent/100)\n",
    "\n",
    "# function for the random samples\n",
    "# indexVector is a vector with the indices of HVG\n",
    "myRandSample <- function(indexVector){\n",
    "        idxMatrix <- matrix(rep(NA, sampleSize*nrRepeats)\n",
    "                            ,nrow = nrRepeats)\n",
    "        for (i in 1:nrow(idxMatrix)){\n",
    "                mySample <- sample(indexVector\n",
    "                                   ,size = sampleSize)\n",
    "                idxMatrix[i,] <- mySample\n",
    "        }\n",
    "        idxMatrix\n",
    "}\n",
    "\n",
    "# indices of all HVGs\n",
    "HVGidx <- rownames(data)\n",
    "RandIdxMatrix <- myRandSample(HVGidx)\n",
    "\n",
    "# function to calculated clusters\n",
    "calculateClusters <- function(geneIndices,deepSplit){\n",
    "    cor.mat<-cor(data[geneIndices,],method=\"spearman\")\n",
    "    dissim<-sqrt((1-cor.mat)/2)\n",
    "    dist.mat<-as.dist(dissim)\n",
    "    test.clust<-hclust(dist.mat, method=\"average\")\n",
    "    clust<-cutreeDynamic(test.clust,distM=as.matrix(dist.mat), minClusterSize=10, method=\"hybrid\", deepSplit =deepSplit)\n",
    "    \n",
    "    clust\n",
    "}\n",
    "\n",
    "VarInfoVector <- matrix(rep(NA, nrRepeats * 5),ncol = 5)\n",
    "colnames(VarInfoVector) <- c(0,1,2,3,4)\n",
    "\n",
    "for(j in 0:4){\n",
    "    tot.clust <- calculateClusters(HVGidx,j)\n",
    "    for (i in 1:nrow(RandIdxMatrix)){\n",
    "        # take indices of HVGs from the RandIdxMatrix of the i-th iteration\n",
    "        indices <- RandIdxMatrix[i,]\n",
    "        # calculate the cluster statistics with these indices and deepSplit == j\n",
    "        subsample.clust <- calculateClusters(indices,j)\n",
    "        if(length(duplicated(indices)[duplicated(indices) == TRUE])>0){print(ERROR)}\n",
    "        #Calculate the variation of information between the two clustering (whole dataset and subsampled data)\n",
    "        VarInfoVector[i,j+1] <- vi.dist(tot.clust,subsample.clust)\n",
    "    }\n",
    "}"
   ]
  },
  {
   "cell_type": "code",
   "execution_count": 8,
   "metadata": {
    "kernel": "SoS"
   },
   "outputs": [
    {
     "data": {
      "image/png": "[encoded data removed]",
      "text/plain": [
       "<Figure size 432x288 with 1 Axes>"
      ]
     },
     "metadata": {
      "needs_background": "light"
     },
     "output_type": "display_data"
    },
    {
     "data": {
      "text/plain": [
       "(None, None)"
      ]
     },
     "execution_count": 8,
     "metadata": {},
     "output_type": "execute_result"
    },
    {
     "name": "stderr",
     "output_type": "stream",
     "text": [
      "/usr/local/lib/python3.7/site-packages/sos_r/kernel.py:1: FutureWarning: Method .as_matrix will be removed in a future version. Use .values instead.\n",
      "  #!/usr/bin/env python3\n"
     ]
    }
   ],
   "source": [
    "%get VarInfoVector --from R\n",
    "\n",
    "plot.rcParams.update({'axes.titlesize': 18})\n",
    "plot.rcParams.update({'axes.labelsize': 18})\n",
    "\n",
    "#Plot the robustness curve and choose deepSplit for clustering\n",
    "plot.figure()\n",
    "plot.title('Robustness analysis - E6.25')\n",
    "plot.xlabel('deepSplit')\n",
    "plot.ylabel('Mean VI (bits)')\n",
    "plot.xticks(fontsize=14)\n",
    "plot.yticks(fontsize=14)\n",
    "plot.scatter(np.arange(0,5),np.mean(VarInfoVector,axis=0),s=100)\n",
    "plot.scatter(1,np.mean(VarInfoVector,axis=0)[1],c='r',s=100)\n",
    "plot.show(),plot.close()"
   ]
  },
  {
   "cell_type": "markdown",
   "metadata": {
    "kernel": "SoS"
   },
   "source": [
    "## First clustering step"
   ]
  },
  {
   "cell_type": "code",
   "execution_count": 7,
   "metadata": {
    "kernel": "R"
   },
   "outputs": [
    {
     "name": "stderr",
     "output_type": "stream",
     "text": [
      "\n",
      "Attaching package: ‘fastcluster’\n",
      "\n",
      "\n",
      "The following object is masked from ‘package:stats’:\n",
      "\n",
      "    hclust\n",
      "\n",
      "\n",
      "\n",
      "\n"
     ]
    },
    {
     "name": "stdout",
     "output_type": "stream",
     "text": [
      "[1] 238 238\n",
      " ..cutHeight not given, setting it to 0.533  ===>  99% of the (truncated) height range in dendro.\n",
      " ..done.\n"
     ]
    }
   ],
   "source": [
    "%get high_var_df\n",
    "\n",
    "library(dynamicTreeCut, quietly = TRUE, warn.conflicts = FALSE)\n",
    "library(WGCNA, quietly = TRUE, warn.conflicts = FALSE)\n",
    "library(Rtsne, quietly = TRUE, warn.conflicts = FALSE)\n",
    "library(mcclust, quietly = TRUE, warn.conflicts = FALSE)\n",
    "\n",
    "data<-as.matrix(t(high_var_df))\n",
    "\n",
    "\n",
    "cor.mat<-cor(data,method=\"spearman\")\n",
    "print(dim(cor.mat))\n",
    "dissim<-sqrt((1-cor.mat)/2)\n",
    "dist.mat<-as.dist(dissim)\n",
    "test.clust<-hclust(dist.mat, method=\"average\")\n",
    "clust<-cutreeDynamic(test.clust,distM=as.matrix(dist.mat), minClusterSize=10, method=\"hybrid\", deepSplit =1)\n",
    "\n",
    "dist.mat <- as.matrix(dist.mat)"
   ]
  },
  {
   "cell_type": "code",
   "execution_count": 8,
   "metadata": {
    "kernel": "SoS"
   },
   "outputs": [
    {
     "name": "stderr",
     "output_type": "stream",
     "text": [
      "Variable dist.mat is put to SoS as dist_mat\n",
      "/usr/local/lib/python3.7/site-packages/umap/umap_.py:349: NumbaWarning: \u001b[1m\n",
      "Compilation is falling back to object mode WITH looplifting enabled because Function \"fuzzy_simplicial_set\" failed type inference due to: \u001b[1mUntyped global name 'nearest_neighbors':\u001b[0m \u001b[1m\u001b[1mcannot determine Numba type of <class 'function'>\u001b[0m\n",
      "\u001b[1m\n",
      "File \"../../../../../../../usr/local/lib/python3.7/site-packages/umap/umap_.py\", line 467:\u001b[0m\n",
      "\u001b[1mdef fuzzy_simplicial_set(\n",
      "    <source elided>\n",
      "    if knn_indices is None or knn_dists is None:\n",
      "\u001b[1m        knn_indices, knn_dists, _ = nearest_neighbors(\n",
      "\u001b[0m        \u001b[1m^\u001b[0m\u001b[0m\n",
      "\u001b[0m\u001b[0m\n",
      "  @numba.jit()\n",
      "/usr/local/lib/python3.7/site-packages/sos_r/kernel.py:1: FutureWarning: Method .as_matrix will be removed in a future version. Use .values instead.\n",
      "  #!/usr/bin/env python3\n",
      "/usr/local/lib/python3.7/site-packages/numba/object_mode_passes.py:178: NumbaWarning: \u001b[1mFunction \"fuzzy_simplicial_set\" was compiled in object mode without forceobj=True.\n",
      "\u001b[1m\n",
      "File \"../../../../../../../usr/local/lib/python3.7/site-packages/umap/umap_.py\", line 350:\u001b[0m\n",
      "\u001b[1m@numba.jit()\n",
      "\u001b[1mdef fuzzy_simplicial_set(\n",
      "\u001b[0m\u001b[1m^\u001b[0m\u001b[0m\n",
      "\u001b[0m\n",
      "  state.func_ir.loc))\n",
      "/usr/local/lib/python3.7/site-packages/numba/object_mode_passes.py:187: NumbaDeprecationWarning: \u001b[1m\n",
      "Fall-back from the nopython compilation path to the object mode compilation path has been detected, this is deprecated behaviour.\n",
      "\n",
      "For more information visit http://numba.pydata.org/numba-doc/latest/reference/deprecation.html#deprecation-of-object-mode-fall-back-behaviour-when-using-jit\n",
      "\u001b[1m\n",
      "File \"../../../../../../../usr/local/lib/python3.7/site-packages/umap/umap_.py\", line 350:\u001b[0m\n",
      "\u001b[1m@numba.jit()\n",
      "\u001b[1mdef fuzzy_simplicial_set(\n",
      "\u001b[0m\u001b[1m^\u001b[0m\u001b[0m\n",
      "\u001b[0m\n",
      "  warnings.warn(errors.NumbaDeprecationWarning(msg, state.func_ir.loc))\n"
     ]
    }
   ],
   "source": [
    "%get clust --from R\n",
    "%get dist.mat --from R\n",
    "\n",
    "high_var.obs['clusters']=list(clust.astype(str))\n",
    "\n",
    "embedding = umap.UMAP(n_neighbors=30,\n",
    "min_dist=0.1,random_state=0,\n",
    "metric='precomputed').fit_transform(dist_mat)\n",
    "high_var.obsm['X_umap']=embedding\n",
    "\n",
    "norm_data.obs['clusters']=high_var.obs['clusters']"
   ]
  },
  {
   "cell_type": "markdown",
   "metadata": {
    "kernel": "SoS"
   },
   "source": [
    "## Robustness of each cluster and second clustering step"
   ]
  },
  {
   "cell_type": "code",
   "execution_count": 9,
   "metadata": {
    "kernel": "SoS"
   },
   "outputs": [],
   "source": [
    "#Subset data for each cluster and find HVGs in each cluster\n",
    "norm_data_1=norm_data[norm_data.obs['clusters']=='1',:]\n",
    "norm_data_2=norm_data[norm_data.obs['clusters']=='2',:]\n",
    "norm_data_3=norm_data[norm_data.obs['clusters']=='3',:]\n",
    "\n",
    "sc.pp.highly_variable_genes(norm_data_1,max_mean=10,n_top_genes=3000)  #calculate highly variable genes\n",
    "high_var_1 = norm_data_1[:,norm_data_1.var['highly_variable']==True]\n",
    "\n",
    "sc.pp.highly_variable_genes(norm_data_2,max_mean=10,n_top_genes=3000)  #calculate highly variable genes\n",
    "high_var_2 = norm_data_2[:,norm_data_2.var['highly_variable']==True]\n",
    "\n",
    "sc.pp.highly_variable_genes(norm_data_3,max_mean=10,n_top_genes=3000)  #calculate highly variable genes\n",
    "high_var_3 = norm_data_3[:,norm_data_3.var['highly_variable']==True]"
   ]
  },
  {
   "cell_type": "code",
   "execution_count": 10,
   "metadata": {
    "kernel": "SoS"
   },
   "outputs": [],
   "source": [
    "high_var1_df=high_var_1.to_df()\n",
    "high_var2_df=high_var_2.to_df()\n",
    "high_var3_df=high_var_3.to_df()"
   ]
  },
  {
   "cell_type": "code",
   "execution_count": 13,
   "metadata": {
    "kernel": "R"
   },
   "outputs": [],
   "source": [
    "# %get high_var1_df\n",
    "\n",
    "# #Robustness analysis: change the number X of the high_varX_df to compute the robustness curve for a cluster\n",
    "\n",
    "# data<-as.matrix(t(high_var1_df))\n",
    "\n",
    "# # indices of all HVGs\n",
    "# HVGidx <- rownames(data)\n",
    "# bootstrapIdxMatrix <- myBootstrap(HVGidx)\n",
    "\n",
    "# VarInfoVector <- matrix(rep(NA, nrRepeats * 5),ncol = 5)\n",
    "# colnames(VarInfoVector) <- c(0,1,2,3,4)\n",
    "\n",
    "# for(j in 0:4){\n",
    "#     tot.clust <- calculateClusters(HVGidx,j)\n",
    "# #    print(max(tot.clust))\n",
    "#     for (i in 1:nrow(bootstrapIdxMatrix)){\n",
    "# #        # take indices of HVGs from the bootstrapIdxMatrix of the i-th iteration\n",
    "#         indices <- bootstrapIdxMatrix[i,]\n",
    "#         # calculate the cluster statistics with these indices and deepSplit == j\n",
    "#         subsample.clust <- calculateClusters(indices,j)\n",
    "#         if(length(duplicated(indices)[duplicated(indices) == TRUE])>0){print(ERROR)}\n",
    "#         #Calculate the variation of information between the two clustering (whole dataset and subsampled data)\n",
    "#         VarInfoVector[i,j+1] <- vi.dist(tot.clust,subsample.clust)\n",
    "#     }\n",
    "# }"
   ]
  },
  {
   "cell_type": "code",
   "execution_count": 14,
   "metadata": {
    "kernel": "SoS"
   },
   "outputs": [],
   "source": [
    "#%get VarInfoVector --from R\n",
    "\n",
    "\n",
    "#plot robustness curve for a specific cluster\n",
    "#plot.figure()\n",
    "#plot.title('minClusterSize=10')\n",
    "#plot.xlabel('deepSplit')\n",
    "#plot.ylabel(r'$\\bar{VI}$ (50 random samples)')\n",
    "#plot.plot(np.arange(0,5),np.mean(VarInfoVector,axis=0),'o')\n",
    "#plot.show()\n",
    "#plot.close()"
   ]
  },
  {
   "cell_type": "markdown",
   "metadata": {
    "kernel": "SoS"
   },
   "source": [
    "Subclustering after choice of the values of deepSplit from the robustness analysis."
   ]
  },
  {
   "cell_type": "code",
   "execution_count": 11,
   "metadata": {
    "kernel": "R"
   },
   "outputs": [
    {
     "name": "stdout",
     "output_type": "stream",
     "text": [
      " ..cutHeight not given, setting it to 0.502  ===>  99% of the (truncated) height range in dendro.\n",
      " ..done.\n",
      " ..cutHeight not given, setting it to 0.534  ===>  99% of the (truncated) height range in dendro.\n",
      " ..done.\n",
      " ..cutHeight not given, setting it to 0.506  ===>  99% of the (truncated) height range in dendro.\n",
      " ..done.\n"
     ]
    }
   ],
   "source": [
    "%get high_var1_df\n",
    "%get high_var2_df\n",
    "%get high_var3_df\n",
    "\n",
    "library(dynamicTreeCut, quietly = TRUE, warn.conflicts = FALSE)\n",
    "library(WGCNA, quietly = TRUE, warn.conflicts = FALSE)\n",
    "library(Rtsne, quietly = TRUE, warn.conflicts = FALSE)\n",
    "library(mcclust, quietly = TRUE, warn.conflicts = FALSE)\n",
    "\n",
    "finalClus <- function(df,deepSplit){\n",
    "    data<-as.matrix(t(df))\n",
    "    cor.mat<-cor(data,method=\"spearman\")\n",
    "    dissim<-sqrt((1-cor.mat)/2)\n",
    "    dist.mat<-as.dist(dissim)\n",
    "    test.clust<-hclust(dist.mat, method=\"average\")\n",
    "    clust<-cutreeDynamic(test.clust,distM=as.matrix(dist.mat), minClusterSize=10,\n",
    "                         method=\"hybrid\", deepSplit =deepSplit)\n",
    "    clust\n",
    "}\n",
    "\n",
    "clust1<-finalClus(high_var1_df,1)\n",
    "clust2<-finalClus(high_var2_df,2)\n",
    "clust3<-finalClus(high_var3_df,1)"
   ]
  },
  {
   "cell_type": "code",
   "execution_count": 12,
   "metadata": {
    "kernel": "SoS"
   },
   "outputs": [
    {
     "name": "stderr",
     "output_type": "stream",
     "text": [
      "Warning message in if (is.nan(obj)) {:\n",
      "“la condizione la lunghezza > 1 e solo il promo elemento verrà utilizzato”\n",
      "Warning message in if (is.nan(obj)) {:\n",
      "“la condizione la lunghezza > 1 e solo il promo elemento verrà utilizzato”\n",
      "Warning message in if (is.nan(obj)) {:\n",
      "“la condizione la lunghezza > 1 e solo il promo elemento verrà utilizzato”\n"
     ]
    }
   ],
   "source": [
    "%get clust1 --from R\n",
    "%get clust2 --from R\n",
    "%get clust3 --from R\n",
    "\n",
    "high_var_1.obs['clusters']=list(clust1.astype(str))\n",
    "high_var_2.obs['clusters']=list(clust2.astype(str))\n",
    "high_var_3.obs['clusters']=list(clust3.astype(str))\n",
    "\n",
    "#Re-assign labels to the clusters, merge them and then delete the 0 labels\n",
    "arr=[\"\" for x in range(len(high_var.obs['clusters']))]\n",
    "\n",
    "for i in range(len(high_var.obs['clusters'])):\n",
    "    if high_var.obs['clusters'][i]=='0':\n",
    "        arr[i]='0'\n",
    "    elif high_var.obs['Run lane'][i] in high_var_1.obs['clusters']:\n",
    "        idx=list(high_var_1.obs['Run lane']).index(high_var.obs['Run lane'][i])\n",
    "        if high_var_1.obs['clusters'][idx]=='0':\n",
    "            arr[i]='0'\n",
    "        elif high_var_1.obs['clusters'][idx]=='1':\n",
    "            arr[i]='1'\n",
    "    if high_var.obs['Run lane'][i] in high_var_2.obs['clusters']:\n",
    "        idx=list(high_var_2.obs['Run lane']).index(high_var.obs['Run lane'][i])\n",
    "        if high_var_2.obs['clusters'][idx]=='0':\n",
    "            arr[i]='0'\n",
    "        elif high_var_2.obs['clusters'][idx]=='1':\n",
    "            arr[i]='2'\n",
    "    if high_var.obs['Run lane'][i] in high_var_3.obs['clusters']:\n",
    "        idx=list(high_var_3.obs['Run lane']).index(high_var.obs['Run lane'][i])\n",
    "        if high_var_3.obs['clusters'][idx]=='0':\n",
    "            arr[i]='0'\n",
    "        elif high_var_3.obs['clusters'][idx]=='1':\n",
    "            arr[i]='3'\n",
    "            \n",
    "high_var.obs['clusters_new']=list(arr)\n",
    "norm_data.obs['clusters_new']=high_var.obs['clusters_new']\n",
    "\n",
    "high_var=high_var[high_var.obs['clusters_new']!='0',:]\n",
    "norm_data=norm_data[norm_data.obs['clusters_new']!='0',:]"
   ]
  },
  {
   "cell_type": "markdown",
   "metadata": {
    "kernel": "SoS"
   },
   "source": [
    "## Separation of cluster 1 into two clusters using pam clustering"
   ]
  },
  {
   "cell_type": "code",
   "execution_count": 13,
   "metadata": {
    "kernel": "SoS"
   },
   "outputs": [],
   "source": [
    "norm_data_1=norm_data[norm_data.obs['clusters']=='1',:]\n",
    "\n",
    "sc.pp.highly_variable_genes(norm_data_1,max_mean=10,n_top_genes=3000)  #calculate highly variable genes\n",
    "high_var_1 = norm_data_1[:,norm_data_1.var['highly_variable']==True]\n",
    "\n",
    "high_var1_df=high_var_1.to_df()"
   ]
  },
  {
   "cell_type": "code",
   "execution_count": 14,
   "metadata": {
    "kernel": "R"
   },
   "outputs": [],
   "source": [
    "%get high_var1_df\n",
    "\n",
    "library(cluster, quietly = TRUE, warn.conflicts = FALSE)\n",
    "\n",
    "kmedClus <- function(df,K.clus){\n",
    "    data<-as.matrix(t(df))\n",
    "    cor.mat<-cor(data,method=\"spearman\")\n",
    "    dissim<-sqrt((1-cor.mat)/2)\n",
    "    clust<-pam(dissim,k=K.clus,diss=TRUE,cluster.only=TRUE)\n",
    "    clust\n",
    "}\n",
    "\n",
    "cl <- kmedClus(high_var1_df, 2)"
   ]
  },
  {
   "cell_type": "code",
   "execution_count": 15,
   "metadata": {
    "kernel": "SoS"
   },
   "outputs": [],
   "source": [
    "%get cl --from R\n",
    "\n",
    "high_var_1.obs['clusters']=list(cl.astype(str))\n",
    "\n",
    "arr=[\"\" for x in range(len(high_var.obs['clusters_new']))]\n",
    "\n",
    "for i in range(len(high_var.obs['clusters_new'])):\n",
    "    if high_var.obs['Run lane'][i] in high_var_1.obs['clusters']:\n",
    "        idx=list(high_var_1.obs['Run lane']).index(high_var.obs['Run lane'][i])\n",
    "        if high_var_1.obs['clusters'][idx]=='1':\n",
    "            arr[i]='1'\n",
    "        elif high_var_1.obs['clusters'][idx]=='2':\n",
    "            arr[i]='4'\n",
    "    else:\n",
    "        arr[i]=high_var.obs['clusters_new'][i]\n",
    "        \n",
    "high_var.obs['clusters_new']=list(arr)\n",
    "norm_data.obs['clusters_new']=high_var.obs['clusters_new']"
   ]
  },
  {
   "cell_type": "markdown",
   "metadata": {
    "kernel": "SoS"
   },
   "source": [
    "## Outlier detection in cluster 2"
   ]
  },
  {
   "cell_type": "markdown",
   "metadata": {
    "kernel": "SoS"
   },
   "source": [
    "We use an outlier detection algorithm based on the distance from the k-nearest neighbours for each cell to identify  Epi and ExE from cluster 2"
   ]
  },
  {
   "cell_type": "code",
   "execution_count": 16,
   "metadata": {
    "kernel": "SoS"
   },
   "outputs": [
    {
     "name": "stdout",
     "output_type": "stream",
     "text": [
      "0    66\n",
      "1     9\n",
      "Name: outliers, dtype: int64\n"
     ]
    },
    {
     "name": "stderr",
     "output_type": "stream",
     "text": [
      "... storing 'clusters' as categorical\n",
      "... storing 'clusters_new' as categorical\n"
     ]
    },
    {
     "data": {
      "image/png": "[encoded data removed]",
      "text/plain": [
       "<Figure size 432x288 with 1 Axes>"
      ]
     },
     "metadata": {
      "needs_background": "light"
     },
     "output_type": "display_data"
    },
    {
     "data": {
      "image/png": "[encoded data removed]",
      "text/plain": [
       "<Figure size 432x288 with 1 Axes>"
      ]
     },
     "metadata": {},
     "output_type": "display_data"
    }
   ],
   "source": [
    "from pyod.models.knn import KNN\n",
    "from sklearn.cluster import KMeans\n",
    "\n",
    "clf_name = 'KNN'\n",
    "clf = KNN(n_neighbors=10,contamination=0.1)\n",
    "clf.fit(high_var[high_var.obs['clusters_new']=='2',:].X)\n",
    "\n",
    "plot.hist(clf.decision_scores_)\n",
    "\n",
    "\n",
    "km = KMeans(n_clusters=2)\n",
    "km.fit(clf.decision_scores_.reshape(-1,1))\n",
    "\n",
    "high_var_cl_2=high_var[high_var.obs['clusters_new']=='2',:]\n",
    "high_var_cl_2.obs['outliers']=list(km.labels_)\n",
    "high_var_cl_2.obs['outliers']=high_var_cl_2.obs['outliers'].astype('category')\n",
    "\n",
    "print(high_var_cl_2.obs['outliers'].value_counts())\n",
    "\n",
    "sc.pl.umap(high_var_cl_2,color=['outliers'],s=90)"
   ]
  },
  {
   "cell_type": "markdown",
   "metadata": {
    "kernel": "SoS"
   },
   "source": [
    "## Cell type annotation"
   ]
  },
  {
   "cell_type": "code",
   "execution_count": 17,
   "metadata": {
    "kernel": "SoS"
   },
   "outputs": [],
   "source": [
    "#Define the new cluster labels for Epi and ExE\n",
    "arr=[\"\" for x in range(len(high_var.obs['clusters']))]\n",
    "\n",
    "for i in range(len(high_var.obs['clusters_new'])):\n",
    "    if high_var.obs['Run lane'][i] in high_var_cl_2.obs['clusters_new']:\n",
    "        idx=list(high_var_cl_2.obs['Run lane']).index(high_var.obs['Run lane'][i])\n",
    "        if high_var_cl_2.obs['outliers'][idx]==0:\n",
    "            arr[i]='2'\n",
    "        elif high_var_cl_2.obs['outliers'][idx]==1:\n",
    "            arr[i]='5'\n",
    "    else:\n",
    "        arr[i]=high_var.obs['clusters_new'][i]\n",
    "        \n",
    "high_var.obs['clusters_new']=list(arr)\n",
    "norm_data.obs['clusters_new']=high_var.obs['clusters_new']"
   ]
  },
  {
   "cell_type": "markdown",
   "metadata": {
    "kernel": "SoS"
   },
   "source": [
    "## Cell type annotation"
   ]
  },
  {
   "cell_type": "code",
   "execution_count": 18,
   "metadata": {
    "kernel": "SoS"
   },
   "outputs": [],
   "source": [
    "#Annotate the clusters\n",
    "high_var.obs['clusters_anno']=high_var.obs['clusters_new']\n",
    "high_var.obs['clusters_anno']=high_var.obs['clusters_anno'].astype('category')\n",
    "\n",
    "high_var.obs['clusters_anno'].cat.categories= ['emVE','Epi','AVE','exVE','ExE']\n",
    "norm_data.obs['clusters_anno']=high_var.obs['clusters_anno']\n",
    "\n",
    "high_var.obs['clusters_anno']=high_var.obs['clusters_anno'].cat.reorder_categories(['AVE','emVE','exVE','Epi', 'ExE'])"
   ]
  },
  {
   "cell_type": "code",
   "execution_count": 19,
   "metadata": {
    "kernel": "SoS"
   },
   "outputs": [
    {
     "name": "stderr",
     "output_type": "stream",
     "text": [
      "... storing 'clusters' as categorical\n",
      "... storing 'clusters_new' as categorical\n"
     ]
    },
    {
     "data": {
      "image/png": "[encoded data removed]",
      "text/plain": [
       "<Figure size 432x288 with 1 Axes>"
      ]
     },
     "metadata": {},
     "output_type": "display_data"
    }
   ],
   "source": [
    "# Show the UMAP with the annotated cell types\n",
    "sc.pl.umap(high_var,color='clusters_anno',title='E6.25')"
   ]
  },
  {
   "cell_type": "markdown",
   "metadata": {
    "kernel": "SoS"
   },
   "source": [
    "# Find markers per cluster"
   ]
  },
  {
   "cell_type": "markdown",
   "metadata": {
    "kernel": "SoS"
   },
   "source": [
    "## Functions"
   ]
  },
  {
   "cell_type": "code",
   "execution_count": 20,
   "metadata": {
    "kernel": "SoS"
   },
   "outputs": [],
   "source": [
    "#Define one pairwise comparison, return genes with logFC>1 and adj_pvalue<0.1 and write in a dataframe names,\n",
    "#logfoldchanges and -log10(pvals_adj)\n",
    "def PairCmpMark(adata,group_by,cl_lab,ref):\n",
    "    \n",
    "    #Wilcoxon test between cluster labelled cl_lab and reference cluster labelled ref with benjamini-hochberg\n",
    "    #correction\n",
    "    tmp=sc.tl.rank_genes_groups(adata, group_by, method= 'wilcoxon', corr_method='benjamini-hochberg',\n",
    "                       groups=[cl_lab],reference=ref,copy=True,n_genes=len(adata.raw.var_names))\n",
    "    d = {'names': list(pd.DataFrame(tmp.uns['rank_genes_groups']['names'])[cl_lab]) , \n",
    "     'logfoldchanges': list(pd.DataFrame(tmp.uns['rank_genes_groups']['logfoldchanges'])[cl_lab]),\n",
    "    'pvals_adj': list(pd.DataFrame(tmp.uns['rank_genes_groups']['pvals_adj'])[cl_lab])}\n",
    "    tmp_df = pd.DataFrame(data=d)\n",
    "        \n",
    "    #Select only genes with log2FC >1 and adjusted p-values <0.1\n",
    "    tmp_df=tmp_df[tmp_df['logfoldchanges']>1]\n",
    "    tmp_df=tmp_df[tmp_df['pvals_adj']<0.1]\n",
    "    #tmp_df=tmp_df[tmp_df['pvals_adj']>0.0]\n",
    "        \n",
    "    #Compute -log10(pvals_adj)\n",
    "    tmp_df['pvals_adj']=-np.log10(tmp_df['pvals_adj'])\n",
    "    \n",
    "    return tmp_df\n",
    "\n",
    "#Function for finding markers for cluster labelled cl_lab\n",
    "# adata: anndata object (note that the function uses the .raw attribute of the object,\n",
    "#        meaning that the log normalized counts for ALL the genes in the dataset are used)\n",
    "# groupby: annotation of the clusters (it is an obs of the anndata object)\n",
    "# cl_lab: label of the cluster for which the marker genes are computed (NOTE: the labels are supposed to \n",
    "#         start from 1)\n",
    "# nr_clus: number of clusters in the dataset\n",
    "def FindMarkers(adata,group_by,cl_lab,nr_clus):\n",
    "    flag=0\n",
    "    for i in range(nr_clus):\n",
    "        i=i+1\n",
    "        if str(i)!=cl_lab and flag==0:\n",
    "            df=PairCmpMark(adata,group_by,cl_lab,str(i)) #compute the first pairwise comparison\n",
    "            flag=1\n",
    "        elif str(i)!=cl_lab and flag==1:\n",
    "            df=df.merge(PairCmpMark(adata,group_by,cl_lab,str(i)),how='outer') #merge the other pairwise comparisons\n",
    "    \n",
    "    #Sort the names in the dataframe (union of all the pairwise comparisons)\n",
    "    df=df.sort_values(['names'])\n",
    "    \n",
    "    #Count duplicates in names in order to check the number of successful pairwise comparisons for each gene\n",
    "    dups = df.pivot_table(index=['names'], aggfunc='size')\n",
    "    \n",
    "    #Sum the logfoldchanges and the -log10(pvals_adj)\n",
    "    df = df.groupby(['names']).agg({'logfoldchanges': sum,\n",
    "                                'pvals_adj': sum\n",
    "                                })\n",
    "    \n",
    "    #Add a column with the number of successful pairwise comparisons for a gene\n",
    "    df['succ_PC']=list(dups)\n",
    "    \n",
    "    #The mean is computed on ALL the pairwise comparisons (nr_clus-1); in this way we penalize genes\n",
    "    #appearing only in a small number of pairwise comparisons\n",
    "    df['logfoldchanges']/=float(nr_clus-1)\n",
    "    df['pvals_adj']/=float(nr_clus-1)\n",
    "    \n",
    "    #Rename the columns\n",
    "    df=df.rename(columns={\"logfoldchanges\": \"mean_logFC\",\"pvals_adj\": \"mean_log_pval\",\"succ_PC\": \"succ_PC\"})\n",
    "    \n",
    "    #Delete genes found only in one pairwise comparison\n",
    "    df=df[df['succ_PC']>1]\n",
    "    \n",
    "    #Sort the dataframe according to the mean of -log10(pvals_adj) \n",
    "    df=df.sort_values(['mean_log_pval'],ascending=False)\n",
    "    \n",
    "    return df"
   ]
  },
  {
   "cell_type": "markdown",
   "metadata": {
    "kernel": "SoS"
   },
   "source": [
    "Find the markers"
   ]
  },
  {
   "cell_type": "code",
   "execution_count": 21,
   "metadata": {
    "kernel": "SoS"
   },
   "outputs": [],
   "source": [
    "NR_CLUS=len(Counter(high_var.obs['clusters_new']))\n",
    "\n",
    "df_1=FindMarkers(high_var,'clusters_new','1',NR_CLUS)\n",
    "df_2=FindMarkers(high_var,'clusters_new','2',NR_CLUS)\n",
    "df_3=FindMarkers(high_var,'clusters_new','3',NR_CLUS)\n",
    "df_4=FindMarkers(high_var,'clusters_new','4',NR_CLUS)\n",
    "df_5=FindMarkers(high_var,'clusters_new','5',NR_CLUS)\n",
    "\n",
    "#Create dataframe with top 50 markers per cluster and save it in Excel file\n",
    "d = {'1': list(df_1.index[:50]),'2': list(df_2.index[:50]),\n",
    "     '3': list(df_3.index[:50]),'4': list(df_4.index[:50]),'5': list(df_5.index[:50]) }\n",
    "\n",
    "markers_df = pd.DataFrame(data=d)\n",
    "\n",
    "#Select top 5 markers per cluster for the heatmap\n",
    "top_markers=list(df_3.index[:5])+list(df_1.index[:5])+list(df_4.index[:5])+list(df_2.index[:5])+list(df_5.index[:5])"
   ]
  },
  {
   "cell_type": "code",
   "execution_count": 22,
   "metadata": {
    "kernel": "SoS"
   },
   "outputs": [
    {
     "data": {
      "image/png": "[encoded data removed]",
      "text/plain": [
       "<Figure size 554.4x432 with 4 Axes>"
      ]
     },
     "metadata": {
      "needs_background": "light"
     },
     "output_type": "display_data"
    },
    {
     "data": {
      "text/plain": [
       "GridSpec(2, 4, height_ratios=[0.15, 6], width_ratios=[0.2, 7.5, 0, 0.2])"
      ]
     },
     "execution_count": 22,
     "metadata": {},
     "output_type": "execute_result"
    }
   ],
   "source": [
    "#Names of the clusters\n",
    "titles_arr=np.array(['AVE','emVE','exVE','Epi','ExE'])\n",
    "\n",
    "#Heatmap of the top 5 markers per cluster\n",
    "sc.pl.heatmap(high_var,top_markers,groupby='clusters_anno',cmap='Reds',\n",
    "              var_group_positions = [(0,4),(5,9),(10,14),(15,19),(20,24)],\n",
    "              var_group_labels=list(titles_arr),show_gene_labels=True)"
   ]
  },
  {
   "cell_type": "markdown",
   "metadata": {
    "kernel": "SoS"
   },
   "source": [
    "# Diffusion pseudotime analysis in AVE and emVE clusters"
   ]
  },
  {
   "cell_type": "markdown",
   "metadata": {
    "kernel": "SoS"
   },
   "source": [
    "## HVGs selection"
   ]
  },
  {
   "cell_type": "code",
   "execution_count": 28,
   "metadata": {
    "kernel": "SoS"
   },
   "outputs": [],
   "source": [
    "#Select only cells from AVE and Epi-VE\n",
    "norm_data_AVE_Epi_VE=norm_data[norm_data.obs['clusters_anno']!='ExE',:]\n",
    "norm_data_AVE_Epi_VE=norm_data_AVE_Epi_VE[norm_data_AVE_Epi_VE.obs['clusters_anno']!='exVE',:]\n",
    "norm_data_AVE_Epi_VE=norm_data_AVE_Epi_VE[norm_data_AVE_Epi_VE.obs['clusters_anno']!='Epi',:]\n",
    "\n",
    "#Compute HVGs in AVE and Epi-VE\n",
    "sc.pp.highly_variable_genes(norm_data_AVE_Epi_VE,max_mean=10,n_top_genes=3000)  #calculate highly variable genes\n",
    "high_var_AVE_Epi_VE = norm_data_AVE_Epi_VE[:,norm_data_AVE_Epi_VE.var['highly_variable']==True]"
   ]
  },
  {
   "cell_type": "code",
   "execution_count": 29,
   "metadata": {
    "kernel": "SoS"
   },
   "outputs": [],
   "source": [
    "import scipy\n",
    "def spearman_dist(X1,X2):\n",
    "    return np.sqrt(0.5*(1.0-scipy.stats.spearmanr(X1,X2)[0]));"
   ]
  },
  {
   "cell_type": "markdown",
   "metadata": {
    "kernel": "SoS"
   },
   "source": [
    "## Compute the diffusion map"
   ]
  },
  {
   "cell_type": "code",
   "execution_count": 30,
   "metadata": {
    "kernel": "SoS"
   },
   "outputs": [],
   "source": [
    "# PCA\n",
    "sc.tl.pca(high_var_AVE_Epi_VE,svd_solver='arpack')\n",
    "\n",
    "#knn graph with spearman correlation\n",
    "sc.pp.neighbors(high_var_AVE_Epi_VE,n_neighbors=15,metric=spearman_dist, n_pcs=10, method = 'umap')\n",
    "sc.tl.diffmap(high_var_AVE_Epi_VE,n_comps=20) #compute the diffusion map"
   ]
  },
  {
   "cell_type": "markdown",
   "metadata": {
    "kernel": "SoS"
   },
   "source": [
    "## Compute the diffusion pseudotime"
   ]
  },
  {
   "cell_type": "code",
   "execution_count": 31,
   "metadata": {
    "kernel": "SoS"
   },
   "outputs": [],
   "source": [
    "root_id=np.argmax(high_var_AVE_Epi_VE.obsm['X_diffmap'][:,2])\n",
    "high_var_AVE_Epi_VE.uns['iroot'] = root_id\n",
    "\n",
    "#Compute diffusion pseudotime\n",
    "sc.tl.dpt(high_var_AVE_Epi_VE,n_dcs=10)\n",
    "pseudo=list(high_var_AVE_Epi_VE.obs['dpt_pseudotime'])\n",
    "\n",
    "norm_data_AVE_Epi_VE.obs['dpt_pseudotime']=list(high_var_AVE_Epi_VE.obs['dpt_pseudotime'])"
   ]
  },
  {
   "cell_type": "code",
   "execution_count": 32,
   "metadata": {
    "kernel": "SoS"
   },
   "outputs": [
    {
     "name": "stderr",
     "output_type": "stream",
     "text": [
      "... storing 'clusters' as categorical\n",
      "... storing 'clusters_new' as categorical\n"
     ]
    },
    {
     "data": {
      "image/png": "[encoded data removed]",
      "text/plain": [
       "<Figure size 432x288 with 1 Axes>"
      ]
     },
     "metadata": {},
     "output_type": "display_data"
    },
    {
     "data": {
      "image/png": "[encoded data removed]",
      "text/plain": [
       "<Figure size 432x288 with 2 Axes>"
      ]
     },
     "metadata": {
      "needs_background": "light"
     },
     "output_type": "display_data"
    }
   ],
   "source": [
    "sc.pl.diffmap(high_var_AVE_Epi_VE,color='clusters_anno',palette=['C1','C0'])\n",
    "sc.pl.diffmap(high_var_AVE_Epi_VE,color='dpt_pseudotime',palette=['C1','C0'])"
   ]
  },
  {
   "cell_type": "markdown",
   "metadata": {
    "kernel": "SoS"
   },
   "source": [
    "## Find differentially expressed genes along dpt"
   ]
  },
  {
   "cell_type": "code",
   "execution_count": 33,
   "metadata": {
    "kernel": "SoS"
   },
   "outputs": [
    {
     "name": "stdout",
     "output_type": "stream",
     "text": [
      "WARNING: `copy` is deprecated, use `inplace` instead.\n"
     ]
    }
   ],
   "source": [
    "#Filter genes expressed in less than 10 cells for DE analysis in pseudotime\n",
    "tmp_adata=sc.pp.filter_genes(norm_data_AVE_Epi_VE,min_cells=10,copy=True)\n",
    "new_df=tmp_adata.to_df()"
   ]
  },
  {
   "cell_type": "code",
   "execution_count": 34,
   "metadata": {
    "kernel": "R"
   },
   "outputs": [
    {
     "name": "stderr",
     "output_type": "stream",
     "text": [
      "Loaded gam 1.16.1\n",
      "\n",
      "\n",
      "\n",
      "Attaching package: ‘BiocGenerics’\n",
      "\n",
      "\n",
      "The following objects are masked from ‘package:parallel’:\n",
      "\n",
      "    clusterApply, clusterApplyLB, clusterCall, clusterEvalQ,\n",
      "    clusterExport, clusterMap, parApply, parCapply, parLapply,\n",
      "    parLapplyLB, parRapply, parSapply, parSapplyLB\n",
      "\n",
      "\n",
      "The following objects are masked from ‘package:stats’:\n",
      "\n",
      "    IQR, mad, sd, var, xtabs\n",
      "\n",
      "\n",
      "The following objects are masked from ‘package:base’:\n",
      "\n",
      "    Filter, Find, Map, Position, Reduce, anyDuplicated, append,\n",
      "    as.data.frame, basename, cbind, colMeans, colSums, colnames,\n",
      "    dirname, do.call, duplicated, eval, evalq, get, grep, grepl,\n",
      "    intersect, is.unsorted, lapply, lengths, mapply, match, mget,\n",
      "    order, paste, pmax, pmax.int, pmin, pmin.int, rank, rbind,\n",
      "    rowMeans, rowSums, rownames, sapply, setdiff, sort, table, tapply,\n",
      "    union, unique, unsplit, which, which.max, which.min\n",
      "\n",
      "\n",
      "\n",
      "Attaching package: ‘S4Vectors’\n",
      "\n",
      "\n",
      "The following object is masked from ‘package:base’:\n",
      "\n",
      "    expand.grid\n",
      "\n",
      "\n",
      "Welcome to Bioconductor\n",
      "\n",
      "    Vignettes contain introductory material; view with\n",
      "    'browseVignettes()'. To cite Bioconductor, see\n",
      "    'citation(\"Biobase\")', and for packages 'citation(\"pkgname\")'.\n",
      "\n",
      "\n",
      "\n",
      "Attaching package: ‘matrixStats’\n",
      "\n",
      "\n",
      "The following objects are masked from ‘package:Biobase’:\n",
      "\n",
      "    anyMissing, rowMedians\n",
      "\n",
      "\n",
      "\n",
      "Attaching package: ‘DelayedArray’\n",
      "\n",
      "\n",
      "The following objects are masked from ‘package:matrixStats’:\n",
      "\n",
      "    colMaxs, colMins, colRanges, rowMaxs, rowMins, rowRanges\n",
      "\n",
      "\n",
      "The following objects are masked from ‘package:base’:\n",
      "\n",
      "    aperm, apply\n",
      "\n",
      "\n"
     ]
    },
    {
     "name": "stdout",
     "output_type": "stream",
     "text": [
      "[1] \"We have 915 significant genes\"\n"
     ]
    }
   ],
   "source": [
    "%get new_df\n",
    "%get pseudo\n",
    "\n",
    "library(gam, quietly = TRUE, warn.conflicts = FALSE)\n",
    "library(scran, quietly = TRUE, warn.conflicts = FALSE)\n",
    "\n",
    "#Extract the diffusion pseudotime from Python and use it as the independent variable in a \n",
    "# Generalized Additive Model (GAM) \n",
    "data<-new_df\n",
    "data<-t(data)\n",
    "\n",
    "sce<-SingleCellExperiment(assays = list(counts = as.matrix(data)))\n",
    "sce$Pseudotime <- pseudo\n",
    "\n",
    "#Y is the (log-norm) count matrix for the genes expressed in at least 10 cells\n",
    "Y <- counts(sce)\n",
    "t <- sce$Pseudotime\n",
    "\n",
    "#Run GAM with LOESS function for all the genes\n",
    "gam.res <- apply(Y, 1, function(z){\n",
    "    d <- data.frame(z=z, t=t)\n",
    "    tmp <- gam(z ~ lo(t), data=d)\n",
    "    p <- summary(tmp)[4][[1]][1,5]  #p-value\n",
    "    f<-fitted(tmp)\n",
    "    c(p,f)\n",
    "})\n",
    "\n",
    "#Build the table of the genes p-values\n",
    "genes.table<-data.frame(genes.names=rownames(data))\n",
    "genes.table$pvals<-gam.res[1,]\n",
    "genes.table$FDR<-p.adjust(genes.table$pvals, method=\"fdr\") #Adjust p-values\n",
    "genes.table<-genes.table[order(genes.table$FDR),] #Order the genes according to the FDR\n",
    "genes.table$genes.names <- as.character(genes.table$genes.names)\n",
    "results.gam.tot<-genes.table[genes.table$FDR < 0.01,][c('genes.names','FDR')] #Filter the significant genes\n",
    "\n",
    "#Save the matrix of fitted values\n",
    "gam.fitted<-gam.res[-1,]\n",
    "\n",
    "print(paste(\"We have\"\n",
    "           ,sum(genes.table$FDR < 0.01)\n",
    "           ,\"significant genes\"))"
   ]
  },
  {
   "cell_type": "code",
   "execution_count": 35,
   "metadata": {
    "kernel": "SoS"
   },
   "outputs": [
    {
     "name": "stderr",
     "output_type": "stream",
     "text": [
      "Variable results.gam.tot is put to SoS as results_gam_tot\n",
      "Variable gam.fitted is put to SoS as gam_fitted\n",
      "/usr/local/lib/python3.7/site-packages/sos_r/kernel.py:1: FutureWarning: Method .as_matrix will be removed in a future version. Use .values instead.\n",
      "  #!/usr/bin/env python3\n"
     ]
    }
   ],
   "source": [
    "%get results.gam.tot --from R\n",
    "%get gam.fitted --from R\n",
    "\n",
    "results_gam=list(results_gam_tot['genes.names'])\n",
    "\n",
    "gam_fitted=ad.AnnData(gam_fitted)\n",
    "gam_fitted.obs=high_var_AVE_Epi_VE.obs\n",
    "gam_fitted.var_names=tmp_adata.var_names\n",
    "gam_fitted=gam_fitted[:,results_gam]"
   ]
  },
  {
   "cell_type": "markdown",
   "metadata": {
    "kernel": "SoS"
   },
   "source": [
    "## Cluster the genes differentially expressed along the trajectory in pseudotime"
   ]
  },
  {
   "cell_type": "markdown",
   "metadata": {
    "kernel": "SoS"
   },
   "source": [
    "As for the cells, we employ hierarchical clustering on the Spearman correlation matrix (of the genes) and we cut the dendrogram based on robustness analysis obtained repeating the clustering subsampling cells"
   ]
  },
  {
   "cell_type": "code",
   "execution_count": 36,
   "metadata": {
    "kernel": "SoS"
   },
   "outputs": [],
   "source": [
    "DE_genes_df=norm_data_AVE_Epi_VE[:,results_gam].to_df()"
   ]
  },
  {
   "cell_type": "code",
   "execution_count": 41,
   "metadata": {
    "kernel": "R",
    "scrolled": true
   },
   "outputs": [
    {
     "name": "stdout",
     "output_type": "stream",
     "text": [
      " ..cutHeight not given, setting it to 0.775  ===>  99% of the (truncated) height range in dendro.\n",
      " ..done.\n",
      " ..cutHeight not given, setting it to 0.774  ===>  99% of the (truncated) height range in dendro.\n",
      " ..done.\n",
      " ..cutHeight not given, setting it to 0.777  ===>  99% of the (truncated) height range in dendro.\n",
      " ..done.\n",
      " ..cutHeight not given, setting it to 0.77  ===>  99% of the (truncated) height range in dendro.\n",
      " ..done.\n",
      " ..cutHeight not given, setting it to 0.775  ===>  99% of the (truncated) height range in dendro.\n",
      " ..done.\n",
      " ..cutHeight not given, setting it to 0.776  ===>  99% of the (truncated) height range in dendro.\n",
      " ..done.\n",
      " ..cutHeight not given, setting it to 0.781  ===>  99% of the (truncated) height range in dendro.\n",
      " ..done.\n",
      " ..cutHeight not given, setting it to 0.779  ===>  99% of the (truncated) height range in dendro.\n",
      " ..done.\n",
      " ..cutHeight not given, setting it to 0.779  ===>  99% of the (truncated) height range in dendro.\n",
      " ..done.\n",
      " ..cutHeight not given, setting it to 0.772  ===>  99% of the (truncated) height range in dendro.\n",
      " ..done.\n",
      " ..cutHeight not given, setting it to 0.774  ===>  99% of the (truncated) height range in dendro.\n",
      " ..done.\n",
      " ..cutHeight not given, setting it to 0.772  ===>  99% of the (truncated) height range in dendro.\n",
      " ..done.\n",
      " ..cutHeight not given, setting it to 0.779  ===>  99% of the (truncated) height range in dendro.\n",
      " ..done.\n",
      " ..cutHeight not given, setting it to 0.773  ===>  99% of the (truncated) height range in dendro.\n",
      " ..done.\n",
      " ..cutHeight not given, setting it to 0.777  ===>  99% of the (truncated) height range in dendro.\n",
      " ..done.\n",
      " ..cutHeight not given, setting it to 0.778  ===>  99% of the (truncated) height range in dendro.\n",
      " ..done.\n",
      " ..cutHeight not given, setting it to 0.773  ===>  99% of the (truncated) height range in dendro.\n",
      " ..done.\n",
      " ..cutHeight not given, setting it to 0.774  ===>  99% of the (truncated) height range in dendro.\n",
      " ..done.\n",
      " ..cutHeight not given, setting it to 0.774  ===>  99% of the (truncated) height range in dendro.\n",
      " ..done.\n",
      " ..cutHeight not given, setting it to 0.773  ===>  99% of the (truncated) height range in dendro.\n",
      " ..done.\n",
      " ..cutHeight not given, setting it to 0.781  ===>  99% of the (truncated) height range in dendro.\n",
      " ..done.\n",
      " ..cutHeight not given, setting it to 0.777  ===>  99% of the (truncated) height range in dendro.\n",
      " ..done.\n",
      " ..cutHeight not given, setting it to 0.775  ===>  99% of the (truncated) height range in dendro.\n",
      " ..done.\n",
      " ..cutHeight not given, setting it to 0.769  ===>  99% of the (truncated) height range in dendro.\n",
      " ..done.\n",
      " ..cutHeight not given, setting it to 0.777  ===>  99% of the (truncated) height range in dendro.\n",
      " ..done.\n",
      " ..cutHeight not given, setting it to 0.775  ===>  99% of the (truncated) height range in dendro.\n",
      " ..done.\n",
      " ..cutHeight not given, setting it to 0.771  ===>  99% of the (truncated) height range in dendro.\n",
      " ..done.\n",
      " ..cutHeight not given, setting it to 0.769  ===>  99% of the (truncated) height range in dendro.\n",
      " ..done.\n",
      " ..cutHeight not given, setting it to 0.764  ===>  99% of the (truncated) height range in dendro.\n",
      " ..done.\n",
      " ..cutHeight not given, setting it to 0.772  ===>  99% of the (truncated) height range in dendro.\n",
      " ..done.\n",
      " ..cutHeight not given, setting it to 0.779  ===>  99% of the (truncated) height range in dendro.\n",
      " ..done.\n",
      " ..cutHeight not given, setting it to 0.775  ===>  99% of the (truncated) height range in dendro.\n",
      " ..done.\n",
      " ..cutHeight not given, setting it to 0.777  ===>  99% of the (truncated) height range in dendro.\n",
      " ..done.\n",
      " ..cutHeight not given, setting it to 0.78  ===>  99% of the (truncated) height range in dendro.\n",
      " ..done.\n",
      " ..cutHeight not given, setting it to 0.776  ===>  99% of the (truncated) height range in dendro.\n",
      " ..done.\n",
      " ..cutHeight not given, setting it to 0.773  ===>  99% of the (truncated) height range in dendro.\n",
      " ..done.\n",
      " ..cutHeight not given, setting it to 0.778  ===>  99% of the (truncated) height range in dendro.\n",
      " ..done.\n",
      " ..cutHeight not given, setting it to 0.768  ===>  99% of the (truncated) height range in dendro.\n",
      " ..done.\n",
      " ..cutHeight not given, setting it to 0.778  ===>  99% of the (truncated) height range in dendro.\n",
      " ..done.\n",
      " ..cutHeight not given, setting it to 0.775  ===>  99% of the (truncated) height range in dendro.\n",
      " ..done.\n",
      " ..cutHeight not given, setting it to 0.779  ===>  99% of the (truncated) height range in dendro.\n",
      " ..done.\n",
      " ..cutHeight not given, setting it to 0.77  ===>  99% of the (truncated) height range in dendro.\n",
      " ..done.\n",
      " ..cutHeight not given, setting it to 0.777  ===>  99% of the (truncated) height range in dendro.\n",
      " ..done.\n",
      " ..cutHeight not given, setting it to 0.774  ===>  99% of the (truncated) height range in dendro.\n",
      " ..done.\n",
      " ..cutHeight not given, setting it to 0.777  ===>  99% of the (truncated) height range in dendro.\n",
      " ..done.\n",
      " ..cutHeight not given, setting it to 0.771  ===>  99% of the (truncated) height range in dendro.\n",
      " ..done.\n",
      " ..cutHeight not given, setting it to 0.769  ===>  99% of the (truncated) height range in dendro.\n",
      " ..done.\n",
      " ..cutHeight not given, setting it to 0.77  ===>  99% of the (truncated) height range in dendro.\n",
      " ..done.\n",
      " ..cutHeight not given, setting it to 0.783  ===>  99% of the (truncated) height range in dendro.\n",
      " ..done.\n",
      " ..cutHeight not given, setting it to 0.774  ===>  99% of the (truncated) height range in dendro.\n",
      " ..done.\n",
      " ..cutHeight not given, setting it to 0.778  ===>  99% of the (truncated) height range in dendro.\n",
      " ..done.\n",
      " ..cutHeight not given, setting it to 0.775  ===>  99% of the (truncated) height range in dendro.\n",
      " ..done.\n",
      " ..cutHeight not given, setting it to 0.774  ===>  99% of the (truncated) height range in dendro.\n",
      " ..done.\n",
      " ..cutHeight not given, setting it to 0.777  ===>  99% of the (truncated) height range in dendro.\n",
      " ..done.\n",
      " ..cutHeight not given, setting it to 0.77  ===>  99% of the (truncated) height range in dendro.\n",
      " ..done.\n",
      " ..cutHeight not given, setting it to 0.775  ===>  99% of the (truncated) height range in dendro.\n",
      " ..done.\n",
      " ..cutHeight not given, setting it to 0.776  ===>  99% of the (truncated) height range in dendro.\n",
      " ..done.\n",
      " ..cutHeight not given, setting it to 0.781  ===>  99% of the (truncated) height range in dendro.\n",
      " ..done.\n",
      " ..cutHeight not given, setting it to 0.779  ===>  99% of the (truncated) height range in dendro.\n",
      " ..done.\n",
      " ..cutHeight not given, setting it to 0.779  ===>  99% of the (truncated) height range in dendro.\n",
      " ..done.\n",
      " ..cutHeight not given, setting it to 0.772  ===>  99% of the (truncated) height range in dendro.\n",
      " ..done.\n",
      " ..cutHeight not given, setting it to 0.774  ===>  99% of the (truncated) height range in dendro.\n",
      " ..done.\n",
      " ..cutHeight not given, setting it to 0.772  ===>  99% of the (truncated) height range in dendro.\n",
      " ..done.\n",
      " ..cutHeight not given, setting it to 0.779  ===>  99% of the (truncated) height range in dendro.\n",
      " ..done.\n",
      " ..cutHeight not given, setting it to 0.773  ===>  99% of the (truncated) height range in dendro.\n",
      " ..done.\n",
      " ..cutHeight not given, setting it to 0.777  ===>  99% of the (truncated) height range in dendro.\n",
      " ..done.\n",
      " ..cutHeight not given, setting it to 0.778  ===>  99% of the (truncated) height range in dendro.\n",
      " ..done.\n",
      " ..cutHeight not given, setting it to 0.773  ===>  99% of the (truncated) height range in dendro.\n",
      " ..done.\n",
      " ..cutHeight not given, setting it to 0.774  ===>  99% of the (truncated) height range in dendro.\n",
      " ..done.\n",
      " ..cutHeight not given, setting it to 0.774  ===>  99% of the (truncated) height range in dendro.\n",
      " ..done.\n",
      " ..cutHeight not given, setting it to 0.773  ===>  99% of the (truncated) height range in dendro.\n",
      " ..done.\n",
      " ..cutHeight not given, setting it to 0.781  ===>  99% of the (truncated) height range in dendro.\n",
      " ..done.\n",
      " ..cutHeight not given, setting it to 0.777  ===>  99% of the (truncated) height range in dendro.\n",
      " ..done.\n",
      " ..cutHeight not given, setting it to 0.775  ===>  99% of the (truncated) height range in dendro.\n",
      " ..done.\n",
      " ..cutHeight not given, setting it to 0.769  ===>  99% of the (truncated) height range in dendro.\n",
      " ..done.\n",
      " ..cutHeight not given, setting it to 0.777  ===>  99% of the (truncated) height range in dendro.\n",
      " ..done.\n",
      " ..cutHeight not given, setting it to 0.775  ===>  99% of the (truncated) height range in dendro.\n"
     ]
    },
    {
     "name": "stdout",
     "output_type": "stream",
     "text": [
      " ..done.\n",
      " ..cutHeight not given, setting it to 0.771  ===>  99% of the (truncated) height range in dendro.\n",
      " ..done.\n",
      " ..cutHeight not given, setting it to 0.769  ===>  99% of the (truncated) height range in dendro.\n",
      " ..done.\n",
      " ..cutHeight not given, setting it to 0.764  ===>  99% of the (truncated) height range in dendro.\n",
      " ..done.\n",
      " ..cutHeight not given, setting it to 0.772  ===>  99% of the (truncated) height range in dendro.\n",
      " ..done.\n",
      " ..cutHeight not given, setting it to 0.779  ===>  99% of the (truncated) height range in dendro.\n",
      " ..done.\n",
      " ..cutHeight not given, setting it to 0.775  ===>  99% of the (truncated) height range in dendro.\n",
      " ..done.\n",
      " ..cutHeight not given, setting it to 0.777  ===>  99% of the (truncated) height range in dendro.\n",
      " ..done.\n",
      " ..cutHeight not given, setting it to 0.78  ===>  99% of the (truncated) height range in dendro.\n",
      " ..done.\n",
      " ..cutHeight not given, setting it to 0.776  ===>  99% of the (truncated) height range in dendro.\n",
      " ..done.\n",
      " ..cutHeight not given, setting it to 0.773  ===>  99% of the (truncated) height range in dendro.\n",
      " ..done.\n",
      " ..cutHeight not given, setting it to 0.778  ===>  99% of the (truncated) height range in dendro.\n",
      " ..done.\n",
      " ..cutHeight not given, setting it to 0.768  ===>  99% of the (truncated) height range in dendro.\n",
      " ..done.\n",
      " ..cutHeight not given, setting it to 0.778  ===>  99% of the (truncated) height range in dendro.\n",
      " ..done.\n",
      " ..cutHeight not given, setting it to 0.775  ===>  99% of the (truncated) height range in dendro.\n",
      " ..done.\n",
      " ..cutHeight not given, setting it to 0.779  ===>  99% of the (truncated) height range in dendro.\n",
      " ..done.\n",
      " ..cutHeight not given, setting it to 0.77  ===>  99% of the (truncated) height range in dendro.\n",
      " ..done.\n",
      " ..cutHeight not given, setting it to 0.777  ===>  99% of the (truncated) height range in dendro.\n",
      " ..done.\n",
      " ..cutHeight not given, setting it to 0.774  ===>  99% of the (truncated) height range in dendro.\n",
      " ..done.\n",
      " ..cutHeight not given, setting it to 0.777  ===>  99% of the (truncated) height range in dendro.\n",
      " ..done.\n",
      " ..cutHeight not given, setting it to 0.771  ===>  99% of the (truncated) height range in dendro.\n",
      " ..done.\n",
      " ..cutHeight not given, setting it to 0.769  ===>  99% of the (truncated) height range in dendro.\n",
      " ..done.\n",
      " ..cutHeight not given, setting it to 0.77  ===>  99% of the (truncated) height range in dendro.\n",
      " ..done.\n",
      " ..cutHeight not given, setting it to 0.783  ===>  99% of the (truncated) height range in dendro.\n",
      " ..done.\n",
      " ..cutHeight not given, setting it to 0.774  ===>  99% of the (truncated) height range in dendro.\n",
      " ..done.\n",
      " ..cutHeight not given, setting it to 0.778  ===>  99% of the (truncated) height range in dendro.\n",
      " ..done.\n",
      " ..cutHeight not given, setting it to 0.775  ===>  99% of the (truncated) height range in dendro.\n",
      " ..done.\n",
      " ..cutHeight not given, setting it to 0.774  ===>  99% of the (truncated) height range in dendro.\n",
      " ..done.\n",
      " ..cutHeight not given, setting it to 0.777  ===>  99% of the (truncated) height range in dendro.\n",
      " ..done.\n",
      " ..cutHeight not given, setting it to 0.77  ===>  99% of the (truncated) height range in dendro.\n",
      " ..done.\n",
      " ..cutHeight not given, setting it to 0.775  ===>  99% of the (truncated) height range in dendro.\n",
      " ..done.\n",
      " ..cutHeight not given, setting it to 0.776  ===>  99% of the (truncated) height range in dendro.\n",
      " ..done.\n",
      " ..cutHeight not given, setting it to 0.781  ===>  99% of the (truncated) height range in dendro.\n",
      " ..done.\n",
      " ..cutHeight not given, setting it to 0.779  ===>  99% of the (truncated) height range in dendro.\n",
      " ..done.\n",
      " ..cutHeight not given, setting it to 0.779  ===>  99% of the (truncated) height range in dendro.\n",
      " ..done.\n",
      " ..cutHeight not given, setting it to 0.772  ===>  99% of the (truncated) height range in dendro.\n",
      " ..done.\n",
      " ..cutHeight not given, setting it to 0.774  ===>  99% of the (truncated) height range in dendro.\n",
      " ..done.\n",
      " ..cutHeight not given, setting it to 0.772  ===>  99% of the (truncated) height range in dendro.\n",
      " ..done.\n",
      " ..cutHeight not given, setting it to 0.779  ===>  99% of the (truncated) height range in dendro.\n",
      " ..done.\n",
      " ..cutHeight not given, setting it to 0.773  ===>  99% of the (truncated) height range in dendro.\n",
      " ..done.\n",
      " ..cutHeight not given, setting it to 0.777  ===>  99% of the (truncated) height range in dendro.\n",
      " ..done.\n",
      " ..cutHeight not given, setting it to 0.778  ===>  99% of the (truncated) height range in dendro.\n",
      " ..done.\n",
      " ..cutHeight not given, setting it to 0.773  ===>  99% of the (truncated) height range in dendro.\n",
      " ..done.\n",
      " ..cutHeight not given, setting it to 0.774  ===>  99% of the (truncated) height range in dendro.\n",
      " ..done.\n",
      " ..cutHeight not given, setting it to 0.774  ===>  99% of the (truncated) height range in dendro.\n",
      " ..done.\n",
      " ..cutHeight not given, setting it to 0.773  ===>  99% of the (truncated) height range in dendro.\n",
      " ..done.\n",
      " ..cutHeight not given, setting it to 0.781  ===>  99% of the (truncated) height range in dendro.\n",
      " ..done.\n",
      " ..cutHeight not given, setting it to 0.777  ===>  99% of the (truncated) height range in dendro.\n",
      " ..done.\n",
      " ..cutHeight not given, setting it to 0.775  ===>  99% of the (truncated) height range in dendro.\n",
      " ..done.\n",
      " ..cutHeight not given, setting it to 0.769  ===>  99% of the (truncated) height range in dendro.\n",
      " ..done.\n",
      " ..cutHeight not given, setting it to 0.777  ===>  99% of the (truncated) height range in dendro.\n",
      " ..done.\n",
      " ..cutHeight not given, setting it to 0.775  ===>  99% of the (truncated) height range in dendro.\n",
      " ..done.\n",
      " ..cutHeight not given, setting it to 0.771  ===>  99% of the (truncated) height range in dendro.\n",
      " ..done.\n",
      " ..cutHeight not given, setting it to 0.769  ===>  99% of the (truncated) height range in dendro.\n",
      " ..done.\n",
      " ..cutHeight not given, setting it to 0.764  ===>  99% of the (truncated) height range in dendro.\n",
      " ..done.\n",
      " ..cutHeight not given, setting it to 0.772  ===>  99% of the (truncated) height range in dendro.\n",
      " ..done.\n",
      " ..cutHeight not given, setting it to 0.779  ===>  99% of the (truncated) height range in dendro.\n",
      " ..done.\n",
      " ..cutHeight not given, setting it to 0.775  ===>  99% of the (truncated) height range in dendro.\n",
      " ..done.\n",
      " ..cutHeight not given, setting it to 0.777  ===>  99% of the (truncated) height range in dendro.\n",
      " ..done.\n",
      " ..cutHeight not given, setting it to 0.78  ===>  99% of the (truncated) height range in dendro.\n",
      " ..done.\n",
      " ..cutHeight not given, setting it to 0.776  ===>  99% of the (truncated) height range in dendro.\n",
      " ..done.\n",
      " ..cutHeight not given, setting it to 0.773  ===>  99% of the (truncated) height range in dendro.\n",
      " ..done.\n",
      " ..cutHeight not given, setting it to 0.778  ===>  99% of the (truncated) height range in dendro.\n",
      " ..done.\n",
      " ..cutHeight not given, setting it to 0.768  ===>  99% of the (truncated) height range in dendro.\n",
      " ..done.\n",
      " ..cutHeight not given, setting it to 0.778  ===>  99% of the (truncated) height range in dendro.\n",
      " ..done.\n",
      " ..cutHeight not given, setting it to 0.775  ===>  99% of the (truncated) height range in dendro.\n",
      " ..done.\n",
      " ..cutHeight not given, setting it to 0.779  ===>  99% of the (truncated) height range in dendro.\n",
      " ..done.\n",
      " ..cutHeight not given, setting it to 0.77  ===>  99% of the (truncated) height range in dendro.\n",
      " ..done.\n",
      " ..cutHeight not given, setting it to 0.777  ===>  99% of the (truncated) height range in dendro.\n",
      " ..done.\n",
      " ..cutHeight not given, setting it to 0.774  ===>  99% of the (truncated) height range in dendro.\n",
      " ..done.\n",
      " ..cutHeight not given, setting it to 0.777  ===>  99% of the (truncated) height range in dendro.\n",
      " ..done.\n",
      " ..cutHeight not given, setting it to 0.771  ===>  99% of the (truncated) height range in dendro.\n",
      " ..done.\n",
      " ..cutHeight not given, setting it to 0.769  ===>  99% of the (truncated) height range in dendro.\n",
      " ..done.\n",
      " ..cutHeight not given, setting it to 0.77  ===>  99% of the (truncated) height range in dendro.\n",
      " ..done.\n",
      " ..cutHeight not given, setting it to 0.783  ===>  99% of the (truncated) height range in dendro.\n",
      " ..done.\n",
      " ..cutHeight not given, setting it to 0.774  ===>  99% of the (truncated) height range in dendro.\n",
      " ..done.\n",
      " ..cutHeight not given, setting it to 0.778  ===>  99% of the (truncated) height range in dendro.\n",
      " ..done.\n",
      " ..cutHeight not given, setting it to 0.775  ===>  99% of the (truncated) height range in dendro.\n"
     ]
    },
    {
     "name": "stdout",
     "output_type": "stream",
     "text": [
      " ..done.\n",
      " ..cutHeight not given, setting it to 0.774  ===>  99% of the (truncated) height range in dendro.\n",
      " ..done.\n",
      " ..cutHeight not given, setting it to 0.777  ===>  99% of the (truncated) height range in dendro.\n",
      " ..done.\n",
      " ..cutHeight not given, setting it to 0.77  ===>  99% of the (truncated) height range in dendro.\n",
      " ..done.\n",
      " ..cutHeight not given, setting it to 0.775  ===>  99% of the (truncated) height range in dendro.\n",
      " ..done.\n",
      " ..cutHeight not given, setting it to 0.776  ===>  99% of the (truncated) height range in dendro.\n",
      " ..done.\n",
      " ..cutHeight not given, setting it to 0.781  ===>  99% of the (truncated) height range in dendro.\n",
      " ..done.\n",
      " ..cutHeight not given, setting it to 0.779  ===>  99% of the (truncated) height range in dendro.\n",
      " ..done.\n",
      " ..cutHeight not given, setting it to 0.779  ===>  99% of the (truncated) height range in dendro.\n",
      " ..done.\n",
      " ..cutHeight not given, setting it to 0.772  ===>  99% of the (truncated) height range in dendro.\n",
      " ..done.\n",
      " ..cutHeight not given, setting it to 0.774  ===>  99% of the (truncated) height range in dendro.\n",
      " ..done.\n",
      " ..cutHeight not given, setting it to 0.772  ===>  99% of the (truncated) height range in dendro.\n",
      " ..done.\n",
      " ..cutHeight not given, setting it to 0.779  ===>  99% of the (truncated) height range in dendro.\n",
      " ..done.\n",
      " ..cutHeight not given, setting it to 0.773  ===>  99% of the (truncated) height range in dendro.\n",
      " ..done.\n",
      " ..cutHeight not given, setting it to 0.777  ===>  99% of the (truncated) height range in dendro.\n",
      " ..done.\n",
      " ..cutHeight not given, setting it to 0.778  ===>  99% of the (truncated) height range in dendro.\n",
      " ..done.\n",
      " ..cutHeight not given, setting it to 0.773  ===>  99% of the (truncated) height range in dendro.\n",
      " ..done.\n",
      " ..cutHeight not given, setting it to 0.774  ===>  99% of the (truncated) height range in dendro.\n",
      " ..done.\n",
      " ..cutHeight not given, setting it to 0.774  ===>  99% of the (truncated) height range in dendro.\n",
      " ..done.\n",
      " ..cutHeight not given, setting it to 0.773  ===>  99% of the (truncated) height range in dendro.\n",
      " ..done.\n",
      " ..cutHeight not given, setting it to 0.781  ===>  99% of the (truncated) height range in dendro.\n",
      " ..done.\n",
      " ..cutHeight not given, setting it to 0.777  ===>  99% of the (truncated) height range in dendro.\n",
      " ..done.\n",
      " ..cutHeight not given, setting it to 0.775  ===>  99% of the (truncated) height range in dendro.\n",
      " ..done.\n",
      " ..cutHeight not given, setting it to 0.769  ===>  99% of the (truncated) height range in dendro.\n",
      " ..done.\n",
      " ..cutHeight not given, setting it to 0.777  ===>  99% of the (truncated) height range in dendro.\n",
      " ..done.\n",
      " ..cutHeight not given, setting it to 0.775  ===>  99% of the (truncated) height range in dendro.\n",
      " ..done.\n",
      " ..cutHeight not given, setting it to 0.771  ===>  99% of the (truncated) height range in dendro.\n",
      " ..done.\n",
      " ..cutHeight not given, setting it to 0.769  ===>  99% of the (truncated) height range in dendro.\n",
      " ..done.\n",
      " ..cutHeight not given, setting it to 0.764  ===>  99% of the (truncated) height range in dendro.\n",
      " ..done.\n",
      " ..cutHeight not given, setting it to 0.772  ===>  99% of the (truncated) height range in dendro.\n",
      " ..done.\n",
      " ..cutHeight not given, setting it to 0.779  ===>  99% of the (truncated) height range in dendro.\n",
      " ..done.\n",
      " ..cutHeight not given, setting it to 0.775  ===>  99% of the (truncated) height range in dendro.\n",
      " ..done.\n",
      " ..cutHeight not given, setting it to 0.777  ===>  99% of the (truncated) height range in dendro.\n",
      " ..done.\n",
      " ..cutHeight not given, setting it to 0.78  ===>  99% of the (truncated) height range in dendro.\n",
      " ..done.\n",
      " ..cutHeight not given, setting it to 0.776  ===>  99% of the (truncated) height range in dendro.\n",
      " ..done.\n",
      " ..cutHeight not given, setting it to 0.773  ===>  99% of the (truncated) height range in dendro.\n",
      " ..done.\n",
      " ..cutHeight not given, setting it to 0.778  ===>  99% of the (truncated) height range in dendro.\n",
      " ..done.\n",
      " ..cutHeight not given, setting it to 0.768  ===>  99% of the (truncated) height range in dendro.\n",
      " ..done.\n",
      " ..cutHeight not given, setting it to 0.778  ===>  99% of the (truncated) height range in dendro.\n",
      " ..done.\n",
      " ..cutHeight not given, setting it to 0.775  ===>  99% of the (truncated) height range in dendro.\n",
      " ..done.\n",
      " ..cutHeight not given, setting it to 0.779  ===>  99% of the (truncated) height range in dendro.\n",
      " ..done.\n",
      " ..cutHeight not given, setting it to 0.77  ===>  99% of the (truncated) height range in dendro.\n",
      " ..done.\n",
      " ..cutHeight not given, setting it to 0.777  ===>  99% of the (truncated) height range in dendro.\n",
      " ..done.\n",
      " ..cutHeight not given, setting it to 0.774  ===>  99% of the (truncated) height range in dendro.\n",
      " ..done.\n",
      " ..cutHeight not given, setting it to 0.777  ===>  99% of the (truncated) height range in dendro.\n",
      " ..done.\n",
      " ..cutHeight not given, setting it to 0.771  ===>  99% of the (truncated) height range in dendro.\n",
      " ..done.\n",
      " ..cutHeight not given, setting it to 0.769  ===>  99% of the (truncated) height range in dendro.\n",
      " ..done.\n",
      " ..cutHeight not given, setting it to 0.77  ===>  99% of the (truncated) height range in dendro.\n",
      " ..done.\n",
      " ..cutHeight not given, setting it to 0.783  ===>  99% of the (truncated) height range in dendro.\n",
      " ..done.\n",
      " ..cutHeight not given, setting it to 0.774  ===>  99% of the (truncated) height range in dendro.\n",
      " ..done.\n",
      " ..cutHeight not given, setting it to 0.778  ===>  99% of the (truncated) height range in dendro.\n",
      " ..done.\n",
      " ..cutHeight not given, setting it to 0.775  ===>  99% of the (truncated) height range in dendro.\n",
      " ..done.\n",
      " ..cutHeight not given, setting it to 0.774  ===>  99% of the (truncated) height range in dendro.\n",
      " ..done.\n",
      " ..cutHeight not given, setting it to 0.777  ===>  99% of the (truncated) height range in dendro.\n",
      " ..done.\n",
      " ..cutHeight not given, setting it to 0.77  ===>  99% of the (truncated) height range in dendro.\n",
      " ..done.\n",
      " ..cutHeight not given, setting it to 0.775  ===>  99% of the (truncated) height range in dendro.\n",
      " ..done.\n",
      " ..cutHeight not given, setting it to 0.776  ===>  99% of the (truncated) height range in dendro.\n",
      " ..done.\n",
      " ..cutHeight not given, setting it to 0.781  ===>  99% of the (truncated) height range in dendro.\n",
      " ..done.\n",
      " ..cutHeight not given, setting it to 0.779  ===>  99% of the (truncated) height range in dendro.\n",
      " ..done.\n",
      " ..cutHeight not given, setting it to 0.779  ===>  99% of the (truncated) height range in dendro.\n",
      " ..done.\n",
      " ..cutHeight not given, setting it to 0.772  ===>  99% of the (truncated) height range in dendro.\n",
      " ..done.\n",
      " ..cutHeight not given, setting it to 0.774  ===>  99% of the (truncated) height range in dendro.\n",
      " ..done.\n",
      " ..cutHeight not given, setting it to 0.772  ===>  99% of the (truncated) height range in dendro.\n",
      " ..done.\n",
      " ..cutHeight not given, setting it to 0.779  ===>  99% of the (truncated) height range in dendro.\n",
      " ..done.\n",
      " ..cutHeight not given, setting it to 0.773  ===>  99% of the (truncated) height range in dendro.\n",
      " ..done.\n",
      " ..cutHeight not given, setting it to 0.777  ===>  99% of the (truncated) height range in dendro.\n",
      " ..done.\n",
      " ..cutHeight not given, setting it to 0.778  ===>  99% of the (truncated) height range in dendro.\n",
      " ..done.\n",
      " ..cutHeight not given, setting it to 0.773  ===>  99% of the (truncated) height range in dendro.\n",
      " ..done.\n",
      " ..cutHeight not given, setting it to 0.774  ===>  99% of the (truncated) height range in dendro.\n",
      " ..done.\n",
      " ..cutHeight not given, setting it to 0.774  ===>  99% of the (truncated) height range in dendro.\n",
      " ..done.\n",
      " ..cutHeight not given, setting it to 0.773  ===>  99% of the (truncated) height range in dendro.\n",
      " ..done.\n",
      " ..cutHeight not given, setting it to 0.781  ===>  99% of the (truncated) height range in dendro.\n",
      " ..done.\n",
      " ..cutHeight not given, setting it to 0.777  ===>  99% of the (truncated) height range in dendro.\n",
      " ..done.\n",
      " ..cutHeight not given, setting it to 0.775  ===>  99% of the (truncated) height range in dendro.\n",
      " ..done.\n",
      " ..cutHeight not given, setting it to 0.769  ===>  99% of the (truncated) height range in dendro.\n",
      " ..done.\n",
      " ..cutHeight not given, setting it to 0.777  ===>  99% of the (truncated) height range in dendro.\n",
      " ..done.\n",
      " ..cutHeight not given, setting it to 0.775  ===>  99% of the (truncated) height range in dendro.\n",
      " ..done.\n",
      " ..cutHeight not given, setting it to 0.771  ===>  99% of the (truncated) height range in dendro.\n"
     ]
    },
    {
     "name": "stdout",
     "output_type": "stream",
     "text": [
      " ..done.\n",
      " ..cutHeight not given, setting it to 0.769  ===>  99% of the (truncated) height range in dendro.\n",
      " ..done.\n",
      " ..cutHeight not given, setting it to 0.764  ===>  99% of the (truncated) height range in dendro.\n",
      " ..done.\n",
      " ..cutHeight not given, setting it to 0.772  ===>  99% of the (truncated) height range in dendro.\n",
      " ..done.\n",
      " ..cutHeight not given, setting it to 0.779  ===>  99% of the (truncated) height range in dendro.\n",
      " ..done.\n",
      " ..cutHeight not given, setting it to 0.775  ===>  99% of the (truncated) height range in dendro.\n",
      " ..done.\n",
      " ..cutHeight not given, setting it to 0.777  ===>  99% of the (truncated) height range in dendro.\n",
      " ..done.\n",
      " ..cutHeight not given, setting it to 0.78  ===>  99% of the (truncated) height range in dendro.\n",
      " ..done.\n",
      " ..cutHeight not given, setting it to 0.776  ===>  99% of the (truncated) height range in dendro.\n",
      " ..done.\n",
      " ..cutHeight not given, setting it to 0.773  ===>  99% of the (truncated) height range in dendro.\n",
      " ..done.\n",
      " ..cutHeight not given, setting it to 0.778  ===>  99% of the (truncated) height range in dendro.\n",
      " ..done.\n",
      " ..cutHeight not given, setting it to 0.768  ===>  99% of the (truncated) height range in dendro.\n",
      " ..done.\n",
      " ..cutHeight not given, setting it to 0.778  ===>  99% of the (truncated) height range in dendro.\n",
      " ..done.\n",
      " ..cutHeight not given, setting it to 0.775  ===>  99% of the (truncated) height range in dendro.\n",
      " ..done.\n",
      " ..cutHeight not given, setting it to 0.779  ===>  99% of the (truncated) height range in dendro.\n",
      " ..done.\n",
      " ..cutHeight not given, setting it to 0.77  ===>  99% of the (truncated) height range in dendro.\n",
      " ..done.\n",
      " ..cutHeight not given, setting it to 0.777  ===>  99% of the (truncated) height range in dendro.\n",
      " ..done.\n",
      " ..cutHeight not given, setting it to 0.774  ===>  99% of the (truncated) height range in dendro.\n",
      " ..done.\n",
      " ..cutHeight not given, setting it to 0.777  ===>  99% of the (truncated) height range in dendro.\n",
      " ..done.\n",
      " ..cutHeight not given, setting it to 0.771  ===>  99% of the (truncated) height range in dendro.\n",
      " ..done.\n",
      " ..cutHeight not given, setting it to 0.769  ===>  99% of the (truncated) height range in dendro.\n",
      " ..done.\n",
      " ..cutHeight not given, setting it to 0.77  ===>  99% of the (truncated) height range in dendro.\n",
      " ..done.\n",
      " ..cutHeight not given, setting it to 0.783  ===>  99% of the (truncated) height range in dendro.\n",
      " ..done.\n",
      " ..cutHeight not given, setting it to 0.774  ===>  99% of the (truncated) height range in dendro.\n",
      " ..done.\n",
      " ..cutHeight not given, setting it to 0.778  ===>  99% of the (truncated) height range in dendro.\n",
      " ..done.\n"
     ]
    }
   ],
   "source": [
    "%get DE_genes_df\n",
    "\n",
    "#Robustness analysis: change the number X of the high_varX_df to compute the robustness curve for a cluster\n",
    "\n",
    "library(dynamicTreeCut, quietly = TRUE, warn.conflicts = FALSE)\n",
    "library(WGCNA, quietly = TRUE, warn.conflicts = FALSE)\n",
    "library(Rtsne, quietly = TRUE, warn.conflicts = FALSE)\n",
    "library(mcclust, quietly = TRUE, warn.conflicts = FALSE)\n",
    "\n",
    "data<-as.matrix(DE_genes_df)\n",
    "\n",
    "# nr of random samples\n",
    "nrRepeats = 50\n",
    "# percent of cells to keep\n",
    "percent = 70\n",
    "# nr of cells left\n",
    "sampleSize <- round(length(rownames(data))*percent/100)\n",
    "\n",
    "myRandSample <- function(indexVector){\n",
    "        idxMatrix <- matrix(rep(NA, sampleSize*nrRepeats)\n",
    "                            ,nrow = nrRepeats)\n",
    "        for (i in 1:nrow(idxMatrix)){\n",
    "                mySample <- sample(indexVector\n",
    "                                   ,size = sampleSize)\n",
    "                idxMatrix[i,] <- mySample\n",
    "        }\n",
    "        idxMatrix\n",
    "}\n",
    "\n",
    "# indices of all the cells\n",
    "cellidx <- rownames(data)\n",
    "RandIdxMatrix <- myRandSample(cellidx)\n",
    "\n",
    "# function to calculate clusters\n",
    "calculateClusters <- function(geneIndices,deepSplit){\n",
    "    cor.mat<-cor(data[geneIndices,],method=\"spearman\")\n",
    "    dissim<-sqrt((1-cor.mat)/2)\n",
    "    dist.mat<-as.dist(dissim)\n",
    "    test.clust<-hclust(dist.mat, method=\"average\")\n",
    "    clust<-cutreeDynamic(test.clust,distM=as.matrix(dist.mat), minClusterSize=50, method=\"hybrid\", deepSplit =deepSplit)\n",
    "    \n",
    "    clust\n",
    "}\n",
    "\n",
    "VarInfoVector <- matrix(rep(NA, nrRepeats * 5),ncol = 5)\n",
    "colnames(VarInfoVector) <- c(0,1,2,3,4)\n",
    "\n",
    "for(j in 0:4){\n",
    "    tot.clust <- calculateClusters(cellidx,j)\n",
    "    for (i in 1:nrow(RandIdxMatrix)){\n",
    "        # take indices of HVGs from the RandIdxMatrix of the i-th iteration\n",
    "        indices <- RandIdxMatrix[i,]\n",
    "        # calculate the cluster statistics with these indices and deepSplit == j\n",
    "        subsample.clust <- calculateClusters(indices,j)\n",
    "        if(length(duplicated(indices)[duplicated(indices) == TRUE])>0){print(ERROR)}\n",
    "        #Calculate the variation of information between the two clustering (whole dataset and subsampled data)\n",
    "        VarInfoVector[i,j+1] <- vi.dist(tot.clust,subsample.clust)\n",
    "    }\n",
    "}"
   ]
  },
  {
   "cell_type": "code",
   "execution_count": 42,
   "metadata": {
    "kernel": "SoS"
   },
   "outputs": [
    {
     "data": {
      "image/png": "[encoded data removed]",
      "text/plain": [
       "<Figure size 432x288 with 1 Axes>"
      ]
     },
     "metadata": {
      "needs_background": "light"
     },
     "output_type": "display_data"
    }
   ],
   "source": [
    "%get VarInfoVector --from R\n",
    "\n",
    "\n",
    "#plot robustness curve and choose the value of deepSplit\n",
    "plot.figure()\n",
    "plot.title('minClusterSize=50')\n",
    "plot.xlabel('deepSplit')\n",
    "plot.ylabel(r'$\\bar{VI}$ (50 random samples)')\n",
    "plot.plot(np.arange(0,5),np.mean(VarInfoVector,axis=0),'o')\n",
    "plot.show()\n",
    "plot.close()"
   ]
  },
  {
   "cell_type": "code",
   "execution_count": 37,
   "metadata": {
    "kernel": "R"
   },
   "outputs": [
    {
     "name": "stdout",
     "output_type": "stream",
     "text": [
      " ..cutHeight not given, setting it to 0.775  ===>  99% of the (truncated) height range in dendro.\n",
      " ..done.\n",
      "[1] 2\n"
     ]
    }
   ],
   "source": [
    "%get DE_genes_df\n",
    "\n",
    "library(dynamicTreeCut, quietly = TRUE, warn.conflicts = FALSE)\n",
    "library(WGCNA, quietly = TRUE, warn.conflicts = FALSE)\n",
    "library(Rtsne, quietly = TRUE, warn.conflicts = FALSE)\n",
    "library(mcclust, quietly = TRUE, warn.conflicts = FALSE)\n",
    "\n",
    "finalClus <- function(df,deepSplit){\n",
    "    data<-as.matrix(df)\n",
    "    cor.mat<-cor(data,method=\"spearman\")\n",
    "    dissim<-sqrt((1-cor.mat)/2)\n",
    "    dist.mat<-as.dist(dissim)\n",
    "    test.clust<-hclust(dist.mat, method=\"average\")\n",
    "    clust<-cutreeDynamic(test.clust,distM=as.matrix(dist.mat), minClusterSize=50,\n",
    "                         method=\"hybrid\", deepSplit =deepSplit)\n",
    "    clust\n",
    "}\n",
    "\n",
    "clust<-finalClus(DE_genes_df,1)\n",
    "print(max(clust))"
   ]
  },
  {
   "cell_type": "code",
   "execution_count": 38,
   "metadata": {
    "kernel": "SoS"
   },
   "outputs": [
    {
     "name": "stderr",
     "output_type": "stream",
     "text": [
      "<string>:30: FutureWarning: \n",
      ".ix is deprecated. Please use\n",
      ".loc for label based indexing or\n",
      ".iloc for positional indexing\n",
      "\n",
      "See the documentation here:\n",
      "http://pandas.pydata.org/pandas-docs/stable/user_guide/indexing.html#ix-indexer-is-deprecated\n"
     ]
    },
    {
     "data": {
      "image/png": "[encoded data removed]",
      "text/plain": [
       "<Figure size 576x216 with 2 Axes>"
      ]
     },
     "metadata": {
      "needs_background": "light"
     },
     "output_type": "display_data"
    },
    {
     "data": {
      "text/plain": [
       "(None, None)"
      ]
     },
     "execution_count": 38,
     "metadata": {},
     "output_type": "execute_result"
    }
   ],
   "source": [
    "%get clust --from R\n",
    "norm_data_DE_genes=norm_data_AVE_Epi_VE[:,results_gam]\n",
    "norm_data_DE_genes.var['cl_labels']=list(clust)\n",
    "\n",
    "results_gam_tot['cl_labels']=list(clust)\n",
    "\n",
    "# #Create a dataframe with the genes divided by cluster (show the FDR)\n",
    "df=pd.DataFrame({'1-names':list(results_gam_tot[results_gam_tot['cl_labels']==1]['genes.names']),\n",
    "                '1-FDR':list(results_gam_tot[results_gam_tot['cl_labels']==1]['FDR'])})\n",
    "\n",
    "for i in range(np.amax(clust)):\n",
    "    i=i+1\n",
    "    if i!=1:\n",
    "        df1=pd.DataFrame({str(i)+'-names':list(results_gam_tot[results_gam_tot['cl_labels']==i]['genes.names']),\n",
    "                         str(i)+'-FDR':list(results_gam_tot[results_gam_tot['cl_labels']==i]['FDR'])})\n",
    "        df=pd.concat([df,df1], ignore_index=True, axis=1)\n",
    "\n",
    "gam_fitted=gam_fitted.copy()\n",
    "DE_genes_df=gam_fitted.T.to_df()\n",
    "\n",
    "#Normalize expression of genes between 0 and 1\n",
    "DE_genes_df_max = DE_genes_df.max(axis=1)\n",
    "DE_genes_df=DE_genes_df.divide(DE_genes_df_max, axis=0)\n",
    "\n",
    "#Add labels of the cluster for each gene\n",
    "DE_genes_df['cl_lab']=list(clust)\n",
    "\n",
    "#For each cluster compute the mean expression of the genes in each cell\n",
    "mean_df=DE_genes_df.groupby('cl_lab').mean()\n",
    "std_df=DE_genes_df.groupby('cl_lab').std()\n",
    "\n",
    "mean_df=mean_df.append(high_var_AVE_Epi_VE.obs['dpt_pseudotime'])\n",
    "std_df=std_df.append(high_var_AVE_Epi_VE.obs['dpt_pseudotime'])\n",
    "\n",
    "new_columns = mean_df.columns[mean_df.ix[mean_df.last_valid_index()].argsort()]\n",
    "mean_df=mean_df[new_columns]\n",
    "std_df=std_df[new_columns]\n",
    "mean_df=np.array(mean_df)\n",
    "std_df=np.array(std_df)\n",
    "\n",
    "#Plot the averaged expression profiles of the clusters\n",
    "\n",
    "fig,ax=plot.subplots(1,2,figsize=(8,3))\n",
    "title_label=['low-in-AVE genes','high-in-AVE genes']\n",
    "for i in [1,0]:\n",
    "    ax[i].set_ylim(-0.1,1.1)\n",
    "    ax[i].set_title(title_label[i])\n",
    "    ax[i].set_xlabel('diffusion pseudotime')\n",
    "    ax[i].set_ylabel('mean expression')\n",
    "    ax[i].plot(mean_df[-1],mean_df[i])\n",
    "    ax[i].fill_between(mean_df[-1], \n",
    "                      mean_df[i]-std_df[i], mean_df[i]+std_df[i],\n",
    "                      alpha=0.5, edgecolor='C0', facecolor='C0')\n",
    "fig.tight_layout()\n",
    "plot.show(),plot.close()"
   ]
  },
  {
   "cell_type": "code",
   "execution_count": 39,
   "metadata": {
    "kernel": "SoS"
   },
   "outputs": [
    {
     "data": {
      "image/png": "[encoded data removed]",
      "text/plain": [
       "<Figure size 432x288 with 1 Axes>"
      ]
     },
     "metadata": {
      "needs_background": "light"
     },
     "output_type": "display_data"
    }
   ],
   "source": [
    "import matplotlib\n",
    "from mlxtend.plotting import category_scatter\n",
    "\n",
    "\n",
    "matplotlib.rcParams.update({'font.size': 14})\n",
    "plot.rcParams.update({'axes.labelsize': 20})\n",
    "\n",
    "#Plot the expression of genes in pseudotime\n",
    "my_gene_list=['Cer1']\n",
    "\n",
    "for i in my_gene_list:\n",
    "    gname=i\n",
    "    \n",
    "    d={'label': high_var_AVE_Epi_VE.obs['clusters_anno'], 'x': high_var_AVE_Epi_VE.obs['dpt_pseudotime']\n",
    "   , 'y': high_var_AVE_Epi_VE[:,gname].X,\n",
    "   'y3': [np.amax(norm_data_AVE_Epi_VE[:,gname].X)+0.5]*len(norm_data_AVE_Epi_VE[:,gname].X)}\n",
    "    df_plot=pd.DataFrame(data=d)\n",
    "    df_plot=df_plot.sort_values('x')\n",
    "    fig = category_scatter(x='x', y='y3', label_col='label',colors=['C0','C1'], \n",
    "                       data=df_plot, legend_loc=False,markersize=40,markers='ooo')\n",
    "    plot.title(gname,fontsize=20)\n",
    "    plot.xlabel('dpt')\n",
    "    plot.ylabel('ln(norm.exp. +1)')\n",
    "    plot.scatter(df_plot['x'],df_plot['y'],color='black')\n",
    "    data=np.array([high_var_AVE_Epi_VE.obs['dpt_pseudotime'],gam_fitted[:,i].X])\n",
    "    data=data.T\n",
    "    data=data[np.argsort(data[:, 0])] \n",
    "    plot.plot(data[:,0],data[:,1],color='red',linewidth=5)\n",
    "    plot.show(),plot.close()"
   ]
  },
  {
   "cell_type": "markdown",
   "metadata": {
    "kernel": "SoS"
   },
   "source": [
    "# Save data for the diffusion map on the integrated stages"
   ]
  },
  {
   "cell_type": "code",
   "execution_count": 40,
   "metadata": {
    "kernel": "SoS"
   },
   "outputs": [],
   "source": [
    "high_var_AVE_Epi_VE.write_h5ad(data_path+'high_var_AVE_Epi_VE_625.h5ad')"
   ]
  },
  {
   "cell_type": "markdown",
   "metadata": {
    "kernel": "SoS"
   },
   "source": [
    "# Save data for the RNA velocity analysis"
   ]
  },
  {
   "cell_type": "markdown",
   "metadata": {
    "kernel": "SoS"
   },
   "source": [
    "## E6.25 - AVE and Epi-VE cells"
   ]
  },
  {
   "cell_type": "code",
   "execution_count": 41,
   "metadata": {
    "kernel": "SoS"
   },
   "outputs": [],
   "source": [
    "# Save a dataframe with the cluster labels for AVE and Epi-VE cells and the diffusion map coordinates\n",
    "data_E625=pd.DataFrame(index=high_var_AVE_Epi_VE.obs_names,\n",
    "                      data={'clusters_anno': high_var_AVE_Epi_VE.obs['clusters_anno'],\n",
    "                            'DC1': high_var_AVE_Epi_VE.obsm['X_diffmap'][:,1] ,\n",
    "                            'DC2': high_var_AVE_Epi_VE.obsm['X_diffmap'][:,2]})\n",
    "data_E625.to_csv(data_path+'DC_625.csv')"
   ]
  },
  {
   "cell_type": "markdown",
   "metadata": {
    "kernel": "SoS"
   },
   "source": [
    "# Versions of R and packages used"
   ]
  },
  {
   "cell_type": "code",
   "execution_count": 42,
   "metadata": {
    "kernel": "R"
   },
   "outputs": [
    {
     "data": {
      "text/plain": [
       "R version 3.5.2 (2018-12-20)\n",
       "Platform: x86_64-apple-darwin15.6.0 (64-bit)\n",
       "Running under: macOS Mojave 10.14.6\n",
       "\n",
       "Matrix products: default\n",
       "BLAS: /Library/Frameworks/R.framework/Versions/3.5/Resources/lib/libRblas.0.dylib\n",
       "LAPACK: /Library/Frameworks/R.framework/Versions/3.5/Resources/lib/libRlapack.dylib\n",
       "\n",
       "locale:\n",
       "[1] C/UTF-8/C/C/C/C\n",
       "\n",
       "attached base packages:\n",
       " [1] parallel  stats4    splines   stats     graphics  grDevices utils    \n",
       " [8] datasets  methods   base     \n",
       "\n",
       "other attached packages:\n",
       " [1] scran_1.10.2                SingleCellExperiment_1.4.1 \n",
       " [3] SummarizedExperiment_1.12.0 DelayedArray_0.8.0         \n",
       " [5] matrixStats_0.57.0          Biobase_2.42.0             \n",
       " [7] GenomicRanges_1.34.0        GenomeInfoDb_1.18.2        \n",
       " [9] IRanges_2.16.0              S4Vectors_0.20.1           \n",
       "[11] BiocGenerics_0.28.0         BiocParallel_1.16.6        \n",
       "[13] gam_1.16.1                  foreach_1.5.1              \n",
       "[15] cluster_2.1.0               mcclust_1.0                \n",
       "[17] lpSolve_5.6.15              Rtsne_0.15                 \n",
       "[19] WGCNA_1.69                  fastcluster_1.1.25         \n",
       "[21] dynamicTreeCut_1.63-1       feather_0.3.5              \n",
       "\n",
       "loaded via a namespace (and not attached):\n",
       " [1] bitops_1.0-6             bit64_4.0.5              doParallel_1.0.16       \n",
       " [4] RColorBrewer_1.1-2       repr_1.1.0               tools_3.5.2             \n",
       " [7] backports_1.2.0          R6_2.5.0                 vipor_0.4.5             \n",
       "[10] HDF5Array_1.10.1         rpart_4.1-15             Hmisc_4.3-1             \n",
       "[13] DBI_1.1.0                colorspace_2.0-0         nnet_7.3-14             \n",
       "[16] tidyselect_1.1.0         gridExtra_2.3            bit_4.0.4               \n",
       "[19] compiler_3.5.2           preprocessCore_1.44.0    BiocNeighbors_1.0.0     \n",
       "[22] htmlTable_2.1.0          scales_1.1.1             checkmate_2.0.0         \n",
       "[25] pbdZMQ_0.3-3.1           stringr_1.4.0            digest_0.6.27           \n",
       "[28] foreign_0.8-76           XVector_0.22.0           scater_1.10.1           \n",
       "[31] base64enc_0.1-3          pkgconfig_2.0.3          htmltools_0.5.0         \n",
       "[34] limma_3.38.3             htmlwidgets_1.5.2        rlang_0.4.9             \n",
       "[37] rstudioapi_0.13          RSQLite_2.2.1            impute_1.56.0           \n",
       "[40] DelayedMatrixStats_1.4.0 generics_0.1.0           jsonlite_1.6.1          \n",
       "[43] acepack_1.4.1            dplyr_1.0.2              RCurl_1.98-1.1          \n",
       "[46] magrittr_2.0.1           GO.db_3.7.0              GenomeInfoDbData_1.2.0  \n",
       "[49] Formula_1.2-4            Matrix_1.2-18            ggbeeswarm_0.6.0        \n",
       "[52] Rhdf5lib_1.4.3           Rcpp_1.0.5               IRkernel_1.1.1          \n",
       "[55] munsell_0.5.0            viridis_0.5.1            lifecycle_0.2.0         \n",
       "[58] edgeR_3.24.3             stringi_1.5.3            zlibbioc_1.28.0         \n",
       "[61] plyr_1.8.6               rhdf5_2.26.2             grid_3.5.2              \n",
       "[64] blob_1.2.1               crayon_1.3.4             lattice_0.20-41         \n",
       "[67] IRdisplay_0.7.0          hms_0.5.3                locfit_1.5-9.4          \n",
       "[70] knitr_1.30               pillar_1.4.7             igraph_1.2.5            \n",
       "[73] uuid_0.1-4               reshape2_1.4.4           codetools_0.2-18        \n",
       "[76] glue_1.4.2               evaluate_0.14            latticeExtra_0.6-28     \n",
       "[79] data.table_1.12.8        vctrs_0.3.5              gtable_0.3.0            \n",
       "[82] purrr_0.3.4              ggplot2_3.3.2            xfun_0.19               \n",
       "[85] viridisLite_0.3.0        survival_3.2-7           tibble_3.0.4            \n",
       "[88] iterators_1.0.13         beeswarm_0.2.3           AnnotationDbi_1.44.0    \n",
       "[91] memoise_1.1.0            statmod_1.4.34           ellipsis_0.3.1          "
      ]
     },
     "metadata": {},
     "output_type": "display_data"
    }
   ],
   "source": [
    "sessionInfo()"
   ]
  }
 ],
 "metadata": {
  "hide_code_all_hidden": true,
  "kernelspec": {
   "display_name": "SoS",
   "language": "sos",
   "name": "sos"
  },
  "language_info": {
   "codemirror_mode": "sos",
   "file_extension": ".sos",
   "mimetype": "text/x-sos",
   "name": "sos",
   "nbconvert_exporter": "sos_notebook.converter.SoS_Exporter",
   "pygments_lexer": "sos"
  },
  "sos": {
   "kernels": [
    [
     "R",
     "ir",
     "R",
     "#DCDCDA",
     "r"
    ],
    [
     "SoS",
     "sos",
     "",
     "",
     "sos"
    ]
   ],
   "panel": {
    "displayed": true,
    "height": 0
   },
   "version": "0.19.3"
  },
  "toc": {
   "base_numbering": 1,
   "nav_menu": {},
   "number_sections": true,
   "sideBar": true,
   "skip_h1_title": false,
   "title_cell": "Table of Contents",
   "title_sidebar": "Contents",
   "toc_cell": false,
   "toc_position": {},
   "toc_section_display": true,
   "toc_window_display": false
  }
 },
 "nbformat": 4,
 "nbformat_minor": 2
}
